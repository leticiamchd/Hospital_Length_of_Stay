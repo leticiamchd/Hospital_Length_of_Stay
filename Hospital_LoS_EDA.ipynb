{
  "cells": [
    {
      "cell_type": "markdown",
      "metadata": {
        "id": "view-in-github",
        "colab_type": "text"
      },
      "source": [
        "<a href=\"https://colab.research.google.com/github/leticiamchd/Hospital_Length_of_Stay/blob/main/Hospital_LoS_EDA.ipynb\" target=\"_parent\"><img src=\"https://colab.research.google.com/assets/colab-badge.svg\" alt=\"Open In Colab\"/></a>"
      ]
    },
    {
      "cell_type": "markdown",
      "source": [
        "# Hospital Length of Stay Exploratory Data Analysis\n",
        "The goal of this EDA is to analyze the characteristics of longer Length of Stay (LoS) (here were considered LoS higher than 30 days)."
      ],
      "metadata": {
        "id": "pK7lf-EK6U7D"
      },
      "id": "pK7lf-EK6U7D"
    },
    {
      "cell_type": "code",
      "execution_count": 1,
      "id": "e4347b67",
      "metadata": {
        "id": "e4347b67"
      },
      "outputs": [],
      "source": [
        "# importing packages\n",
        "import pandas as pd\n",
        "import numpy as np\n",
        "import matplotlib.pyplot as plt\n",
        "import seaborn as sns"
      ]
    },
    {
      "cell_type": "code",
      "execution_count": 3,
      "id": "8c93b934",
      "metadata": {
        "id": "8c93b934"
      },
      "outputs": [],
      "source": [
        "# creating a dataframe to the train data and the variables dictionary\n",
        "\n",
        "df = pd.read_csv(\"train.csv\")\n",
        "df_dict = pd.read_csv(\"train_data_dict.csv\")"
      ]
    },
    {
      "cell_type": "code",
      "execution_count": 4,
      "id": "07c690a4",
      "metadata": {
        "colab": {
          "base_uri": "https://localhost:8080/",
          "height": 614
        },
        "id": "07c690a4",
        "outputId": "5456e99f-d236-497b-9e96-94f1966281cd"
      },
      "outputs": [
        {
          "output_type": "execute_result",
          "data": {
            "text/plain": [
              "                               Column  \\\n",
              "0                             case_id   \n",
              "1                       Hospital_code   \n",
              "2                  Hospital_type_code   \n",
              "3                  City_Code_Hospital   \n",
              "4                Hospital_region_code   \n",
              "5   Available Extra Rooms in Hospital   \n",
              "6                          Department   \n",
              "7                           Ward_Type   \n",
              "8                  Ward_Facility_Code   \n",
              "9                           Bed Grade   \n",
              "10                          patientid   \n",
              "11                  City_Code_Patient   \n",
              "12                  Type of Admission   \n",
              "13                Severity of Illness   \n",
              "14              Visitors with Patient   \n",
              "15                                Age   \n",
              "16                  Admission_Deposit   \n",
              "17                               Stay   \n",
              "\n",
              "                                          Description  \n",
              "0                      Case_ID registered in Hospital  \n",
              "1                        Unique code for the Hospital  \n",
              "2                Unique code for the type of Hospital  \n",
              "3                           City Code of the Hospital  \n",
              "4                         Region Code of the Hospital  \n",
              "5     Number of Extra rooms available in the Hospital  \n",
              "6                     Department overlooking the case  \n",
              "7                              Code for the Ward type  \n",
              "8                          Code for the Ward Facility  \n",
              "9                        Condition of Bed in the Ward  \n",
              "10                                  Unique Patient Id  \n",
              "11                          City Code for the patient  \n",
              "12          Admission Type registered by the Hospital  \n",
              "13  Severity of the illness recorded at the time o...  \n",
              "14                Number of Visitors with the patient  \n",
              "15                                 Age of the patient  \n",
              "16                      Deposit at the Admission Time  \n",
              "17                           Stay Days by the patient  "
            ],
            "text/html": [
              "\n",
              "  <div id=\"df-e195b8d0-db90-4208-ae07-82f0d626bc4b\">\n",
              "    <div class=\"colab-df-container\">\n",
              "      <div>\n",
              "<style scoped>\n",
              "    .dataframe tbody tr th:only-of-type {\n",
              "        vertical-align: middle;\n",
              "    }\n",
              "\n",
              "    .dataframe tbody tr th {\n",
              "        vertical-align: top;\n",
              "    }\n",
              "\n",
              "    .dataframe thead th {\n",
              "        text-align: right;\n",
              "    }\n",
              "</style>\n",
              "<table border=\"1\" class=\"dataframe\">\n",
              "  <thead>\n",
              "    <tr style=\"text-align: right;\">\n",
              "      <th></th>\n",
              "      <th>Column</th>\n",
              "      <th>Description</th>\n",
              "    </tr>\n",
              "  </thead>\n",
              "  <tbody>\n",
              "    <tr>\n",
              "      <th>0</th>\n",
              "      <td>case_id</td>\n",
              "      <td>Case_ID registered in Hospital</td>\n",
              "    </tr>\n",
              "    <tr>\n",
              "      <th>1</th>\n",
              "      <td>Hospital_code</td>\n",
              "      <td>Unique code for the Hospital</td>\n",
              "    </tr>\n",
              "    <tr>\n",
              "      <th>2</th>\n",
              "      <td>Hospital_type_code</td>\n",
              "      <td>Unique code for the type of Hospital</td>\n",
              "    </tr>\n",
              "    <tr>\n",
              "      <th>3</th>\n",
              "      <td>City_Code_Hospital</td>\n",
              "      <td>City Code of the Hospital</td>\n",
              "    </tr>\n",
              "    <tr>\n",
              "      <th>4</th>\n",
              "      <td>Hospital_region_code</td>\n",
              "      <td>Region Code of the Hospital</td>\n",
              "    </tr>\n",
              "    <tr>\n",
              "      <th>5</th>\n",
              "      <td>Available Extra Rooms in Hospital</td>\n",
              "      <td>Number of Extra rooms available in the Hospital</td>\n",
              "    </tr>\n",
              "    <tr>\n",
              "      <th>6</th>\n",
              "      <td>Department</td>\n",
              "      <td>Department overlooking the case</td>\n",
              "    </tr>\n",
              "    <tr>\n",
              "      <th>7</th>\n",
              "      <td>Ward_Type</td>\n",
              "      <td>Code for the Ward type</td>\n",
              "    </tr>\n",
              "    <tr>\n",
              "      <th>8</th>\n",
              "      <td>Ward_Facility_Code</td>\n",
              "      <td>Code for the Ward Facility</td>\n",
              "    </tr>\n",
              "    <tr>\n",
              "      <th>9</th>\n",
              "      <td>Bed Grade</td>\n",
              "      <td>Condition of Bed in the Ward</td>\n",
              "    </tr>\n",
              "    <tr>\n",
              "      <th>10</th>\n",
              "      <td>patientid</td>\n",
              "      <td>Unique Patient Id</td>\n",
              "    </tr>\n",
              "    <tr>\n",
              "      <th>11</th>\n",
              "      <td>City_Code_Patient</td>\n",
              "      <td>City Code for the patient</td>\n",
              "    </tr>\n",
              "    <tr>\n",
              "      <th>12</th>\n",
              "      <td>Type of Admission</td>\n",
              "      <td>Admission Type registered by the Hospital</td>\n",
              "    </tr>\n",
              "    <tr>\n",
              "      <th>13</th>\n",
              "      <td>Severity of Illness</td>\n",
              "      <td>Severity of the illness recorded at the time o...</td>\n",
              "    </tr>\n",
              "    <tr>\n",
              "      <th>14</th>\n",
              "      <td>Visitors with Patient</td>\n",
              "      <td>Number of Visitors with the patient</td>\n",
              "    </tr>\n",
              "    <tr>\n",
              "      <th>15</th>\n",
              "      <td>Age</td>\n",
              "      <td>Age of the patient</td>\n",
              "    </tr>\n",
              "    <tr>\n",
              "      <th>16</th>\n",
              "      <td>Admission_Deposit</td>\n",
              "      <td>Deposit at the Admission Time</td>\n",
              "    </tr>\n",
              "    <tr>\n",
              "      <th>17</th>\n",
              "      <td>Stay</td>\n",
              "      <td>Stay Days by the patient</td>\n",
              "    </tr>\n",
              "  </tbody>\n",
              "</table>\n",
              "</div>\n",
              "      <button class=\"colab-df-convert\" onclick=\"convertToInteractive('df-e195b8d0-db90-4208-ae07-82f0d626bc4b')\"\n",
              "              title=\"Convert this dataframe to an interactive table.\"\n",
              "              style=\"display:none;\">\n",
              "        \n",
              "  <svg xmlns=\"http://www.w3.org/2000/svg\" height=\"24px\"viewBox=\"0 0 24 24\"\n",
              "       width=\"24px\">\n",
              "    <path d=\"M0 0h24v24H0V0z\" fill=\"none\"/>\n",
              "    <path d=\"M18.56 5.44l.94 2.06.94-2.06 2.06-.94-2.06-.94-.94-2.06-.94 2.06-2.06.94zm-11 1L8.5 8.5l.94-2.06 2.06-.94-2.06-.94L8.5 2.5l-.94 2.06-2.06.94zm10 10l.94 2.06.94-2.06 2.06-.94-2.06-.94-.94-2.06-.94 2.06-2.06.94z\"/><path d=\"M17.41 7.96l-1.37-1.37c-.4-.4-.92-.59-1.43-.59-.52 0-1.04.2-1.43.59L10.3 9.45l-7.72 7.72c-.78.78-.78 2.05 0 2.83L4 21.41c.39.39.9.59 1.41.59.51 0 1.02-.2 1.41-.59l7.78-7.78 2.81-2.81c.8-.78.8-2.07 0-2.86zM5.41 20L4 18.59l7.72-7.72 1.47 1.35L5.41 20z\"/>\n",
              "  </svg>\n",
              "      </button>\n",
              "      \n",
              "  <style>\n",
              "    .colab-df-container {\n",
              "      display:flex;\n",
              "      flex-wrap:wrap;\n",
              "      gap: 12px;\n",
              "    }\n",
              "\n",
              "    .colab-df-convert {\n",
              "      background-color: #E8F0FE;\n",
              "      border: none;\n",
              "      border-radius: 50%;\n",
              "      cursor: pointer;\n",
              "      display: none;\n",
              "      fill: #1967D2;\n",
              "      height: 32px;\n",
              "      padding: 0 0 0 0;\n",
              "      width: 32px;\n",
              "    }\n",
              "\n",
              "    .colab-df-convert:hover {\n",
              "      background-color: #E2EBFA;\n",
              "      box-shadow: 0px 1px 2px rgba(60, 64, 67, 0.3), 0px 1px 3px 1px rgba(60, 64, 67, 0.15);\n",
              "      fill: #174EA6;\n",
              "    }\n",
              "\n",
              "    [theme=dark] .colab-df-convert {\n",
              "      background-color: #3B4455;\n",
              "      fill: #D2E3FC;\n",
              "    }\n",
              "\n",
              "    [theme=dark] .colab-df-convert:hover {\n",
              "      background-color: #434B5C;\n",
              "      box-shadow: 0px 1px 3px 1px rgba(0, 0, 0, 0.15);\n",
              "      filter: drop-shadow(0px 1px 2px rgba(0, 0, 0, 0.3));\n",
              "      fill: #FFFFFF;\n",
              "    }\n",
              "  </style>\n",
              "\n",
              "      <script>\n",
              "        const buttonEl =\n",
              "          document.querySelector('#df-e195b8d0-db90-4208-ae07-82f0d626bc4b button.colab-df-convert');\n",
              "        buttonEl.style.display =\n",
              "          google.colab.kernel.accessAllowed ? 'block' : 'none';\n",
              "\n",
              "        async function convertToInteractive(key) {\n",
              "          const element = document.querySelector('#df-e195b8d0-db90-4208-ae07-82f0d626bc4b');\n",
              "          const dataTable =\n",
              "            await google.colab.kernel.invokeFunction('convertToInteractive',\n",
              "                                                     [key], {});\n",
              "          if (!dataTable) return;\n",
              "\n",
              "          const docLinkHtml = 'Like what you see? Visit the ' +\n",
              "            '<a target=\"_blank\" href=https://colab.research.google.com/notebooks/data_table.ipynb>data table notebook</a>'\n",
              "            + ' to learn more about interactive tables.';\n",
              "          element.innerHTML = '';\n",
              "          dataTable['output_type'] = 'display_data';\n",
              "          await google.colab.output.renderOutput(dataTable, element);\n",
              "          const docLink = document.createElement('div');\n",
              "          docLink.innerHTML = docLinkHtml;\n",
              "          element.appendChild(docLink);\n",
              "        }\n",
              "      </script>\n",
              "    </div>\n",
              "  </div>\n",
              "  "
            ]
          },
          "metadata": {},
          "execution_count": 4
        }
      ],
      "source": [
        "# looking into the variables diactionary\n",
        "df_dict"
      ]
    },
    {
      "cell_type": "code",
      "execution_count": 5,
      "id": "4f0348c8",
      "metadata": {
        "colab": {
          "base_uri": "https://localhost:8080/",
          "height": 409
        },
        "id": "4f0348c8",
        "outputId": "90e7c883-b96e-4181-a3b6-bb5c773aad5b"
      },
      "outputs": [
        {
          "output_type": "execute_result",
          "data": {
            "text/plain": [
              "   case_id  Hospital_code Hospital_type_code  City_Code_Hospital  \\\n",
              "0        1              8                  c                   3   \n",
              "1        2              2                  c                   5   \n",
              "2        3             10                  e                   1   \n",
              "3        4             26                  b                   2   \n",
              "4        5             26                  b                   2   \n",
              "\n",
              "  Hospital_region_code  Available Extra Rooms in Hospital    Department  \\\n",
              "0                    Z                                  3  radiotherapy   \n",
              "1                    Z                                  2  radiotherapy   \n",
              "2                    X                                  2    anesthesia   \n",
              "3                    Y                                  2  radiotherapy   \n",
              "4                    Y                                  2  radiotherapy   \n",
              "\n",
              "  Ward_Type Ward_Facility_Code  Bed Grade  patientid  City_Code_Patient  \\\n",
              "0         R                  F        2.0      31397                7.0   \n",
              "1         S                  F        2.0      31397                7.0   \n",
              "2         S                  E        2.0      31397                7.0   \n",
              "3         R                  D        2.0      31397                7.0   \n",
              "4         S                  D        2.0      31397                7.0   \n",
              "\n",
              "  Type of Admission Severity of Illness  Visitors with Patient    Age  \\\n",
              "0         Emergency             Extreme                      2  51-60   \n",
              "1            Trauma             Extreme                      2  51-60   \n",
              "2            Trauma             Extreme                      2  51-60   \n",
              "3            Trauma             Extreme                      2  51-60   \n",
              "4            Trauma             Extreme                      2  51-60   \n",
              "\n",
              "   Admission_Deposit   Stay  \n",
              "0             4911.0   0-10  \n",
              "1             5954.0  41-50  \n",
              "2             4745.0  31-40  \n",
              "3             7272.0  41-50  \n",
              "4             5558.0  41-50  "
            ],
            "text/html": [
              "\n",
              "  <div id=\"df-8903494c-d688-4eb6-9014-39aa1baf0f7d\">\n",
              "    <div class=\"colab-df-container\">\n",
              "      <div>\n",
              "<style scoped>\n",
              "    .dataframe tbody tr th:only-of-type {\n",
              "        vertical-align: middle;\n",
              "    }\n",
              "\n",
              "    .dataframe tbody tr th {\n",
              "        vertical-align: top;\n",
              "    }\n",
              "\n",
              "    .dataframe thead th {\n",
              "        text-align: right;\n",
              "    }\n",
              "</style>\n",
              "<table border=\"1\" class=\"dataframe\">\n",
              "  <thead>\n",
              "    <tr style=\"text-align: right;\">\n",
              "      <th></th>\n",
              "      <th>case_id</th>\n",
              "      <th>Hospital_code</th>\n",
              "      <th>Hospital_type_code</th>\n",
              "      <th>City_Code_Hospital</th>\n",
              "      <th>Hospital_region_code</th>\n",
              "      <th>Available Extra Rooms in Hospital</th>\n",
              "      <th>Department</th>\n",
              "      <th>Ward_Type</th>\n",
              "      <th>Ward_Facility_Code</th>\n",
              "      <th>Bed Grade</th>\n",
              "      <th>patientid</th>\n",
              "      <th>City_Code_Patient</th>\n",
              "      <th>Type of Admission</th>\n",
              "      <th>Severity of Illness</th>\n",
              "      <th>Visitors with Patient</th>\n",
              "      <th>Age</th>\n",
              "      <th>Admission_Deposit</th>\n",
              "      <th>Stay</th>\n",
              "    </tr>\n",
              "  </thead>\n",
              "  <tbody>\n",
              "    <tr>\n",
              "      <th>0</th>\n",
              "      <td>1</td>\n",
              "      <td>8</td>\n",
              "      <td>c</td>\n",
              "      <td>3</td>\n",
              "      <td>Z</td>\n",
              "      <td>3</td>\n",
              "      <td>radiotherapy</td>\n",
              "      <td>R</td>\n",
              "      <td>F</td>\n",
              "      <td>2.0</td>\n",
              "      <td>31397</td>\n",
              "      <td>7.0</td>\n",
              "      <td>Emergency</td>\n",
              "      <td>Extreme</td>\n",
              "      <td>2</td>\n",
              "      <td>51-60</td>\n",
              "      <td>4911.0</td>\n",
              "      <td>0-10</td>\n",
              "    </tr>\n",
              "    <tr>\n",
              "      <th>1</th>\n",
              "      <td>2</td>\n",
              "      <td>2</td>\n",
              "      <td>c</td>\n",
              "      <td>5</td>\n",
              "      <td>Z</td>\n",
              "      <td>2</td>\n",
              "      <td>radiotherapy</td>\n",
              "      <td>S</td>\n",
              "      <td>F</td>\n",
              "      <td>2.0</td>\n",
              "      <td>31397</td>\n",
              "      <td>7.0</td>\n",
              "      <td>Trauma</td>\n",
              "      <td>Extreme</td>\n",
              "      <td>2</td>\n",
              "      <td>51-60</td>\n",
              "      <td>5954.0</td>\n",
              "      <td>41-50</td>\n",
              "    </tr>\n",
              "    <tr>\n",
              "      <th>2</th>\n",
              "      <td>3</td>\n",
              "      <td>10</td>\n",
              "      <td>e</td>\n",
              "      <td>1</td>\n",
              "      <td>X</td>\n",
              "      <td>2</td>\n",
              "      <td>anesthesia</td>\n",
              "      <td>S</td>\n",
              "      <td>E</td>\n",
              "      <td>2.0</td>\n",
              "      <td>31397</td>\n",
              "      <td>7.0</td>\n",
              "      <td>Trauma</td>\n",
              "      <td>Extreme</td>\n",
              "      <td>2</td>\n",
              "      <td>51-60</td>\n",
              "      <td>4745.0</td>\n",
              "      <td>31-40</td>\n",
              "    </tr>\n",
              "    <tr>\n",
              "      <th>3</th>\n",
              "      <td>4</td>\n",
              "      <td>26</td>\n",
              "      <td>b</td>\n",
              "      <td>2</td>\n",
              "      <td>Y</td>\n",
              "      <td>2</td>\n",
              "      <td>radiotherapy</td>\n",
              "      <td>R</td>\n",
              "      <td>D</td>\n",
              "      <td>2.0</td>\n",
              "      <td>31397</td>\n",
              "      <td>7.0</td>\n",
              "      <td>Trauma</td>\n",
              "      <td>Extreme</td>\n",
              "      <td>2</td>\n",
              "      <td>51-60</td>\n",
              "      <td>7272.0</td>\n",
              "      <td>41-50</td>\n",
              "    </tr>\n",
              "    <tr>\n",
              "      <th>4</th>\n",
              "      <td>5</td>\n",
              "      <td>26</td>\n",
              "      <td>b</td>\n",
              "      <td>2</td>\n",
              "      <td>Y</td>\n",
              "      <td>2</td>\n",
              "      <td>radiotherapy</td>\n",
              "      <td>S</td>\n",
              "      <td>D</td>\n",
              "      <td>2.0</td>\n",
              "      <td>31397</td>\n",
              "      <td>7.0</td>\n",
              "      <td>Trauma</td>\n",
              "      <td>Extreme</td>\n",
              "      <td>2</td>\n",
              "      <td>51-60</td>\n",
              "      <td>5558.0</td>\n",
              "      <td>41-50</td>\n",
              "    </tr>\n",
              "  </tbody>\n",
              "</table>\n",
              "</div>\n",
              "      <button class=\"colab-df-convert\" onclick=\"convertToInteractive('df-8903494c-d688-4eb6-9014-39aa1baf0f7d')\"\n",
              "              title=\"Convert this dataframe to an interactive table.\"\n",
              "              style=\"display:none;\">\n",
              "        \n",
              "  <svg xmlns=\"http://www.w3.org/2000/svg\" height=\"24px\"viewBox=\"0 0 24 24\"\n",
              "       width=\"24px\">\n",
              "    <path d=\"M0 0h24v24H0V0z\" fill=\"none\"/>\n",
              "    <path d=\"M18.56 5.44l.94 2.06.94-2.06 2.06-.94-2.06-.94-.94-2.06-.94 2.06-2.06.94zm-11 1L8.5 8.5l.94-2.06 2.06-.94-2.06-.94L8.5 2.5l-.94 2.06-2.06.94zm10 10l.94 2.06.94-2.06 2.06-.94-2.06-.94-.94-2.06-.94 2.06-2.06.94z\"/><path d=\"M17.41 7.96l-1.37-1.37c-.4-.4-.92-.59-1.43-.59-.52 0-1.04.2-1.43.59L10.3 9.45l-7.72 7.72c-.78.78-.78 2.05 0 2.83L4 21.41c.39.39.9.59 1.41.59.51 0 1.02-.2 1.41-.59l7.78-7.78 2.81-2.81c.8-.78.8-2.07 0-2.86zM5.41 20L4 18.59l7.72-7.72 1.47 1.35L5.41 20z\"/>\n",
              "  </svg>\n",
              "      </button>\n",
              "      \n",
              "  <style>\n",
              "    .colab-df-container {\n",
              "      display:flex;\n",
              "      flex-wrap:wrap;\n",
              "      gap: 12px;\n",
              "    }\n",
              "\n",
              "    .colab-df-convert {\n",
              "      background-color: #E8F0FE;\n",
              "      border: none;\n",
              "      border-radius: 50%;\n",
              "      cursor: pointer;\n",
              "      display: none;\n",
              "      fill: #1967D2;\n",
              "      height: 32px;\n",
              "      padding: 0 0 0 0;\n",
              "      width: 32px;\n",
              "    }\n",
              "\n",
              "    .colab-df-convert:hover {\n",
              "      background-color: #E2EBFA;\n",
              "      box-shadow: 0px 1px 2px rgba(60, 64, 67, 0.3), 0px 1px 3px 1px rgba(60, 64, 67, 0.15);\n",
              "      fill: #174EA6;\n",
              "    }\n",
              "\n",
              "    [theme=dark] .colab-df-convert {\n",
              "      background-color: #3B4455;\n",
              "      fill: #D2E3FC;\n",
              "    }\n",
              "\n",
              "    [theme=dark] .colab-df-convert:hover {\n",
              "      background-color: #434B5C;\n",
              "      box-shadow: 0px 1px 3px 1px rgba(0, 0, 0, 0.15);\n",
              "      filter: drop-shadow(0px 1px 2px rgba(0, 0, 0, 0.3));\n",
              "      fill: #FFFFFF;\n",
              "    }\n",
              "  </style>\n",
              "\n",
              "      <script>\n",
              "        const buttonEl =\n",
              "          document.querySelector('#df-8903494c-d688-4eb6-9014-39aa1baf0f7d button.colab-df-convert');\n",
              "        buttonEl.style.display =\n",
              "          google.colab.kernel.accessAllowed ? 'block' : 'none';\n",
              "\n",
              "        async function convertToInteractive(key) {\n",
              "          const element = document.querySelector('#df-8903494c-d688-4eb6-9014-39aa1baf0f7d');\n",
              "          const dataTable =\n",
              "            await google.colab.kernel.invokeFunction('convertToInteractive',\n",
              "                                                     [key], {});\n",
              "          if (!dataTable) return;\n",
              "\n",
              "          const docLinkHtml = 'Like what you see? Visit the ' +\n",
              "            '<a target=\"_blank\" href=https://colab.research.google.com/notebooks/data_table.ipynb>data table notebook</a>'\n",
              "            + ' to learn more about interactive tables.';\n",
              "          element.innerHTML = '';\n",
              "          dataTable['output_type'] = 'display_data';\n",
              "          await google.colab.output.renderOutput(dataTable, element);\n",
              "          const docLink = document.createElement('div');\n",
              "          docLink.innerHTML = docLinkHtml;\n",
              "          element.appendChild(docLink);\n",
              "        }\n",
              "      </script>\n",
              "    </div>\n",
              "  </div>\n",
              "  "
            ]
          },
          "metadata": {},
          "execution_count": 5
        }
      ],
      "source": [
        "# looking into the 5 fisrts entries of the dataset \n",
        "df.head()"
      ]
    },
    {
      "cell_type": "markdown",
      "id": "8859a71a",
      "metadata": {
        "id": "8859a71a"
      },
      "source": [
        "* **With a first look it's possible to see that this dataset contains a lot of encoded information**\n",
        "* **For this algorithm I will predict the lenght of Stay into 2 categories: < 30 days and > 30 days; so it is necessary to make a change**"
      ]
    },
    {
      "cell_type": "code",
      "execution_count": 6,
      "id": "53ccb948",
      "metadata": {
        "colab": {
          "base_uri": "https://localhost:8080/"
        },
        "id": "53ccb948",
        "outputId": "aa692404-38f2-4020-94e3-1a96e1cb8867"
      },
      "outputs": [
        {
          "output_type": "stream",
          "name": "stdout",
          "text": [
            "This dataset contains 318438 rows and 18 columns.\n"
          ]
        }
      ],
      "source": [
        "# Let's check the size of this dataset \n",
        "print(f\"This dataset contains {df.shape[0]} rows and {df.shape[1]} columns.\")"
      ]
    },
    {
      "cell_type": "code",
      "execution_count": 7,
      "id": "c7491082",
      "metadata": {
        "colab": {
          "base_uri": "https://localhost:8080/"
        },
        "id": "c7491082",
        "outputId": "e400f919-c4ee-491b-bd3b-c0135e5b1fae"
      },
      "outputs": [
        {
          "output_type": "execute_result",
          "data": {
            "text/plain": [
              "case_id                                 0\n",
              "Hospital_code                           0\n",
              "Hospital_type_code                      0\n",
              "City_Code_Hospital                      0\n",
              "Hospital_region_code                    0\n",
              "Available Extra Rooms in Hospital       0\n",
              "Department                              0\n",
              "Ward_Type                               0\n",
              "Ward_Facility_Code                      0\n",
              "Bed Grade                             113\n",
              "patientid                               0\n",
              "City_Code_Patient                    4532\n",
              "Type of Admission                       0\n",
              "Severity of Illness                     0\n",
              "Visitors with Patient                   0\n",
              "Age                                     0\n",
              "Admission_Deposit                       0\n",
              "Stay                                    0\n",
              "dtype: int64"
            ]
          },
          "metadata": {},
          "execution_count": 7
        }
      ],
      "source": [
        "# Let's check the amount of null values\n",
        "df.isnull().sum()"
      ]
    },
    {
      "cell_type": "markdown",
      "id": "6c111d55",
      "metadata": {
        "id": "6c111d55"
      },
      "source": [
        "**We can see that only 2 variables have explicity missing values, possibly a small percentage of the dataset considering that there's 318438 rows, but let's check if this perception is true.**"
      ]
    },
    {
      "cell_type": "code",
      "execution_count": 8,
      "id": "234e6e73",
      "metadata": {
        "colab": {
          "base_uri": "https://localhost:8080/"
        },
        "id": "234e6e73",
        "outputId": "3b7e9470-d2c7-466f-9d05-20a3c3ce07c3"
      },
      "outputs": [
        {
          "output_type": "execute_result",
          "data": {
            "text/plain": [
              "case_id                              0.000000\n",
              "Hospital_code                        0.000000\n",
              "Hospital_type_code                   0.000000\n",
              "City_Code_Hospital                   0.000000\n",
              "Hospital_region_code                 0.000000\n",
              "Available Extra Rooms in Hospital    0.000000\n",
              "Department                           0.000000\n",
              "Ward_Type                            0.000000\n",
              "Ward_Facility_Code                   0.000000\n",
              "Bed Grade                            0.035486\n",
              "patientid                            0.000000\n",
              "City_Code_Patient                    1.423197\n",
              "Type of Admission                    0.000000\n",
              "Severity of Illness                  0.000000\n",
              "Visitors with Patient                0.000000\n",
              "Age                                  0.000000\n",
              "Admission_Deposit                    0.000000\n",
              "Stay                                 0.000000\n",
              "dtype: float64"
            ]
          },
          "metadata": {},
          "execution_count": 8
        }
      ],
      "source": [
        "# Checking the percentage of null values \n",
        "df.isnull().sum() / df.shape[0] * 100"
      ]
    },
    {
      "cell_type": "markdown",
      "id": "51164587",
      "metadata": {
        "id": "51164587"
      },
      "source": [
        "**This confirms the perception about the amount of null values, is a small part of the dataset.**"
      ]
    },
    {
      "cell_type": "code",
      "execution_count": 9,
      "id": "e41b1458",
      "metadata": {
        "colab": {
          "base_uri": "https://localhost:8080/"
        },
        "id": "e41b1458",
        "outputId": "37f29d4e-9971-4bf0-bfa5-b702f36d29ae"
      },
      "outputs": [
        {
          "output_type": "execute_result",
          "data": {
            "text/plain": [
              "0"
            ]
          },
          "metadata": {},
          "execution_count": 9
        }
      ],
      "source": [
        "# Let's check if there's any duplicate rows\n",
        "df.duplicated().sum()"
      ]
    },
    {
      "cell_type": "markdown",
      "id": "50271b81",
      "metadata": {
        "id": "50271b81"
      },
      "source": [
        "**There are none duplicate rows**"
      ]
    },
    {
      "cell_type": "code",
      "execution_count": 10,
      "id": "2518b46c",
      "metadata": {
        "colab": {
          "base_uri": "https://localhost:8080/"
        },
        "id": "2518b46c",
        "outputId": "70355e4c-b166-443c-8bab-e065c1601b34"
      },
      "outputs": [
        {
          "output_type": "execute_result",
          "data": {
            "text/plain": [
              "case_id                                int64\n",
              "Hospital_code                          int64\n",
              "Hospital_type_code                    object\n",
              "City_Code_Hospital                     int64\n",
              "Hospital_region_code                  object\n",
              "Available Extra Rooms in Hospital      int64\n",
              "Department                            object\n",
              "Ward_Type                             object\n",
              "Ward_Facility_Code                    object\n",
              "Bed Grade                            float64\n",
              "patientid                              int64\n",
              "City_Code_Patient                    float64\n",
              "Type of Admission                     object\n",
              "Severity of Illness                   object\n",
              "Visitors with Patient                  int64\n",
              "Age                                   object\n",
              "Admission_Deposit                    float64\n",
              "Stay                                  object\n",
              "dtype: object"
            ]
          },
          "metadata": {},
          "execution_count": 10
        }
      ],
      "source": [
        "# Checking the type of each columns\n",
        "df.dtypes"
      ]
    },
    {
      "cell_type": "code",
      "execution_count": 11,
      "id": "ce5439b9",
      "metadata": {
        "colab": {
          "base_uri": "https://localhost:8080/",
          "height": 344
        },
        "id": "ce5439b9",
        "outputId": "0f5e5674-21cd-4ad1-9377-a7baaf933942"
      },
      "outputs": [
        {
          "output_type": "execute_result",
          "data": {
            "text/plain": [
              "             case_id  Hospital_code  City_Code_Hospital  \\\n",
              "count  318438.000000  318438.000000       318438.000000   \n",
              "mean   159219.500000      18.318841            4.771717   \n",
              "std     91925.276848       8.633755            3.102535   \n",
              "min         1.000000       1.000000            1.000000   \n",
              "25%     79610.250000      11.000000            2.000000   \n",
              "50%    159219.500000      19.000000            5.000000   \n",
              "75%    238828.750000      26.000000            7.000000   \n",
              "max    318438.000000      32.000000           13.000000   \n",
              "\n",
              "       Available Extra Rooms in Hospital      Bed Grade      patientid  \\\n",
              "count                      318438.000000  318325.000000  318438.000000   \n",
              "mean                            3.197627       2.625807   65747.579472   \n",
              "std                             1.168171       0.873146   37979.936440   \n",
              "min                             0.000000       1.000000       1.000000   \n",
              "25%                             2.000000       2.000000   32847.000000   \n",
              "50%                             3.000000       3.000000   65724.500000   \n",
              "75%                             4.000000       3.000000   98470.000000   \n",
              "max                            24.000000       4.000000  131624.000000   \n",
              "\n",
              "       City_Code_Patient  Visitors with Patient  Admission_Deposit  \n",
              "count      313906.000000          318438.000000      318438.000000  \n",
              "mean            7.251859               3.284099        4880.749392  \n",
              "std             4.745266               1.764061        1086.776254  \n",
              "min             1.000000               0.000000        1800.000000  \n",
              "25%             4.000000               2.000000        4186.000000  \n",
              "50%             8.000000               3.000000        4741.000000  \n",
              "75%             8.000000               4.000000        5409.000000  \n",
              "max            38.000000              32.000000       11008.000000  "
            ],
            "text/html": [
              "\n",
              "  <div id=\"df-ff279750-0878-4a6d-8209-73d21cbf855f\">\n",
              "    <div class=\"colab-df-container\">\n",
              "      <div>\n",
              "<style scoped>\n",
              "    .dataframe tbody tr th:only-of-type {\n",
              "        vertical-align: middle;\n",
              "    }\n",
              "\n",
              "    .dataframe tbody tr th {\n",
              "        vertical-align: top;\n",
              "    }\n",
              "\n",
              "    .dataframe thead th {\n",
              "        text-align: right;\n",
              "    }\n",
              "</style>\n",
              "<table border=\"1\" class=\"dataframe\">\n",
              "  <thead>\n",
              "    <tr style=\"text-align: right;\">\n",
              "      <th></th>\n",
              "      <th>case_id</th>\n",
              "      <th>Hospital_code</th>\n",
              "      <th>City_Code_Hospital</th>\n",
              "      <th>Available Extra Rooms in Hospital</th>\n",
              "      <th>Bed Grade</th>\n",
              "      <th>patientid</th>\n",
              "      <th>City_Code_Patient</th>\n",
              "      <th>Visitors with Patient</th>\n",
              "      <th>Admission_Deposit</th>\n",
              "    </tr>\n",
              "  </thead>\n",
              "  <tbody>\n",
              "    <tr>\n",
              "      <th>count</th>\n",
              "      <td>318438.000000</td>\n",
              "      <td>318438.000000</td>\n",
              "      <td>318438.000000</td>\n",
              "      <td>318438.000000</td>\n",
              "      <td>318325.000000</td>\n",
              "      <td>318438.000000</td>\n",
              "      <td>313906.000000</td>\n",
              "      <td>318438.000000</td>\n",
              "      <td>318438.000000</td>\n",
              "    </tr>\n",
              "    <tr>\n",
              "      <th>mean</th>\n",
              "      <td>159219.500000</td>\n",
              "      <td>18.318841</td>\n",
              "      <td>4.771717</td>\n",
              "      <td>3.197627</td>\n",
              "      <td>2.625807</td>\n",
              "      <td>65747.579472</td>\n",
              "      <td>7.251859</td>\n",
              "      <td>3.284099</td>\n",
              "      <td>4880.749392</td>\n",
              "    </tr>\n",
              "    <tr>\n",
              "      <th>std</th>\n",
              "      <td>91925.276848</td>\n",
              "      <td>8.633755</td>\n",
              "      <td>3.102535</td>\n",
              "      <td>1.168171</td>\n",
              "      <td>0.873146</td>\n",
              "      <td>37979.936440</td>\n",
              "      <td>4.745266</td>\n",
              "      <td>1.764061</td>\n",
              "      <td>1086.776254</td>\n",
              "    </tr>\n",
              "    <tr>\n",
              "      <th>min</th>\n",
              "      <td>1.000000</td>\n",
              "      <td>1.000000</td>\n",
              "      <td>1.000000</td>\n",
              "      <td>0.000000</td>\n",
              "      <td>1.000000</td>\n",
              "      <td>1.000000</td>\n",
              "      <td>1.000000</td>\n",
              "      <td>0.000000</td>\n",
              "      <td>1800.000000</td>\n",
              "    </tr>\n",
              "    <tr>\n",
              "      <th>25%</th>\n",
              "      <td>79610.250000</td>\n",
              "      <td>11.000000</td>\n",
              "      <td>2.000000</td>\n",
              "      <td>2.000000</td>\n",
              "      <td>2.000000</td>\n",
              "      <td>32847.000000</td>\n",
              "      <td>4.000000</td>\n",
              "      <td>2.000000</td>\n",
              "      <td>4186.000000</td>\n",
              "    </tr>\n",
              "    <tr>\n",
              "      <th>50%</th>\n",
              "      <td>159219.500000</td>\n",
              "      <td>19.000000</td>\n",
              "      <td>5.000000</td>\n",
              "      <td>3.000000</td>\n",
              "      <td>3.000000</td>\n",
              "      <td>65724.500000</td>\n",
              "      <td>8.000000</td>\n",
              "      <td>3.000000</td>\n",
              "      <td>4741.000000</td>\n",
              "    </tr>\n",
              "    <tr>\n",
              "      <th>75%</th>\n",
              "      <td>238828.750000</td>\n",
              "      <td>26.000000</td>\n",
              "      <td>7.000000</td>\n",
              "      <td>4.000000</td>\n",
              "      <td>3.000000</td>\n",
              "      <td>98470.000000</td>\n",
              "      <td>8.000000</td>\n",
              "      <td>4.000000</td>\n",
              "      <td>5409.000000</td>\n",
              "    </tr>\n",
              "    <tr>\n",
              "      <th>max</th>\n",
              "      <td>318438.000000</td>\n",
              "      <td>32.000000</td>\n",
              "      <td>13.000000</td>\n",
              "      <td>24.000000</td>\n",
              "      <td>4.000000</td>\n",
              "      <td>131624.000000</td>\n",
              "      <td>38.000000</td>\n",
              "      <td>32.000000</td>\n",
              "      <td>11008.000000</td>\n",
              "    </tr>\n",
              "  </tbody>\n",
              "</table>\n",
              "</div>\n",
              "      <button class=\"colab-df-convert\" onclick=\"convertToInteractive('df-ff279750-0878-4a6d-8209-73d21cbf855f')\"\n",
              "              title=\"Convert this dataframe to an interactive table.\"\n",
              "              style=\"display:none;\">\n",
              "        \n",
              "  <svg xmlns=\"http://www.w3.org/2000/svg\" height=\"24px\"viewBox=\"0 0 24 24\"\n",
              "       width=\"24px\">\n",
              "    <path d=\"M0 0h24v24H0V0z\" fill=\"none\"/>\n",
              "    <path d=\"M18.56 5.44l.94 2.06.94-2.06 2.06-.94-2.06-.94-.94-2.06-.94 2.06-2.06.94zm-11 1L8.5 8.5l.94-2.06 2.06-.94-2.06-.94L8.5 2.5l-.94 2.06-2.06.94zm10 10l.94 2.06.94-2.06 2.06-.94-2.06-.94-.94-2.06-.94 2.06-2.06.94z\"/><path d=\"M17.41 7.96l-1.37-1.37c-.4-.4-.92-.59-1.43-.59-.52 0-1.04.2-1.43.59L10.3 9.45l-7.72 7.72c-.78.78-.78 2.05 0 2.83L4 21.41c.39.39.9.59 1.41.59.51 0 1.02-.2 1.41-.59l7.78-7.78 2.81-2.81c.8-.78.8-2.07 0-2.86zM5.41 20L4 18.59l7.72-7.72 1.47 1.35L5.41 20z\"/>\n",
              "  </svg>\n",
              "      </button>\n",
              "      \n",
              "  <style>\n",
              "    .colab-df-container {\n",
              "      display:flex;\n",
              "      flex-wrap:wrap;\n",
              "      gap: 12px;\n",
              "    }\n",
              "\n",
              "    .colab-df-convert {\n",
              "      background-color: #E8F0FE;\n",
              "      border: none;\n",
              "      border-radius: 50%;\n",
              "      cursor: pointer;\n",
              "      display: none;\n",
              "      fill: #1967D2;\n",
              "      height: 32px;\n",
              "      padding: 0 0 0 0;\n",
              "      width: 32px;\n",
              "    }\n",
              "\n",
              "    .colab-df-convert:hover {\n",
              "      background-color: #E2EBFA;\n",
              "      box-shadow: 0px 1px 2px rgba(60, 64, 67, 0.3), 0px 1px 3px 1px rgba(60, 64, 67, 0.15);\n",
              "      fill: #174EA6;\n",
              "    }\n",
              "\n",
              "    [theme=dark] .colab-df-convert {\n",
              "      background-color: #3B4455;\n",
              "      fill: #D2E3FC;\n",
              "    }\n",
              "\n",
              "    [theme=dark] .colab-df-convert:hover {\n",
              "      background-color: #434B5C;\n",
              "      box-shadow: 0px 1px 3px 1px rgba(0, 0, 0, 0.15);\n",
              "      filter: drop-shadow(0px 1px 2px rgba(0, 0, 0, 0.3));\n",
              "      fill: #FFFFFF;\n",
              "    }\n",
              "  </style>\n",
              "\n",
              "      <script>\n",
              "        const buttonEl =\n",
              "          document.querySelector('#df-ff279750-0878-4a6d-8209-73d21cbf855f button.colab-df-convert');\n",
              "        buttonEl.style.display =\n",
              "          google.colab.kernel.accessAllowed ? 'block' : 'none';\n",
              "\n",
              "        async function convertToInteractive(key) {\n",
              "          const element = document.querySelector('#df-ff279750-0878-4a6d-8209-73d21cbf855f');\n",
              "          const dataTable =\n",
              "            await google.colab.kernel.invokeFunction('convertToInteractive',\n",
              "                                                     [key], {});\n",
              "          if (!dataTable) return;\n",
              "\n",
              "          const docLinkHtml = 'Like what you see? Visit the ' +\n",
              "            '<a target=\"_blank\" href=https://colab.research.google.com/notebooks/data_table.ipynb>data table notebook</a>'\n",
              "            + ' to learn more about interactive tables.';\n",
              "          element.innerHTML = '';\n",
              "          dataTable['output_type'] = 'display_data';\n",
              "          await google.colab.output.renderOutput(dataTable, element);\n",
              "          const docLink = document.createElement('div');\n",
              "          docLink.innerHTML = docLinkHtml;\n",
              "          element.appendChild(docLink);\n",
              "        }\n",
              "      </script>\n",
              "    </div>\n",
              "  </div>\n",
              "  "
            ]
          },
          "metadata": {},
          "execution_count": 11
        }
      ],
      "source": [
        "# Looking into the characteristics of the numerical variables\n",
        "df.describe()"
      ]
    },
    {
      "cell_type": "markdown",
      "id": "da73d5e7",
      "metadata": {
        "id": "da73d5e7"
      },
      "source": [
        "* Possibly there isn't any duplicated rows in `case_id` and it starts at 1 and ends at 318,438\n",
        "* `Hospital_code` starts at 1 and ends at 32\n",
        "* `City_Code_Hospital` starts at 1 and ends at 13\n",
        "* There's hospital that have none availables extra rooms in Hospital while another that have 24 availables extra rooms. But this seems to be an outlier because when we look into the mean, median and 75th percentile, they're all equal or above 4.\n",
        "* `Bed Grade` starts at 1 and ends at 4\n",
        "* `patientid` starts at 1 and ends at 131,624, possibly because there's patients that were admitted at the hospital more than once \n",
        "* `City_Code_Patient` starts at 1 and ends at 38\n",
        "* When we look at the amount of visitors with patients, we can see that some patient received none visiting, while some received 32 visitors. But the same way as the variable about the amount of extra rooms, this 32 seems like to be and outlier because when we look into the mean, median and 75th percentile, they're all equal or above 4.\n",
        "* When we look the amount of admission deposit the majority pays less than $5000"
      ]
    },
    {
      "cell_type": "code",
      "execution_count": 12,
      "id": "1e859011",
      "metadata": {
        "colab": {
          "base_uri": "https://localhost:8080/",
          "height": 175
        },
        "id": "1e859011",
        "outputId": "5c3f0ede-ca2d-4997-aa02-25d04d3f7f3d"
      },
      "outputs": [
        {
          "output_type": "execute_result",
          "data": {
            "text/plain": [
              "       Hospital_type_code Hospital_region_code  Department Ward_Type  \\\n",
              "count              318438               318438      318438    318438   \n",
              "unique                  7                    3           5         6   \n",
              "top                     a                    X  gynecology         R   \n",
              "freq               143425               133336      249486    127947   \n",
              "\n",
              "       Ward_Facility_Code Type of Admission Severity of Illness     Age  \\\n",
              "count              318438            318438              318438  318438   \n",
              "unique                  6                 3                   3      10   \n",
              "top                     F            Trauma            Moderate   41-50   \n",
              "freq               112753            152261              175843   63749   \n",
              "\n",
              "          Stay  \n",
              "count   318438  \n",
              "unique      11  \n",
              "top      21-30  \n",
              "freq     87491  "
            ],
            "text/html": [
              "\n",
              "  <div id=\"df-f1c57c55-c5bb-4328-ac94-cc107bcfdbb9\">\n",
              "    <div class=\"colab-df-container\">\n",
              "      <div>\n",
              "<style scoped>\n",
              "    .dataframe tbody tr th:only-of-type {\n",
              "        vertical-align: middle;\n",
              "    }\n",
              "\n",
              "    .dataframe tbody tr th {\n",
              "        vertical-align: top;\n",
              "    }\n",
              "\n",
              "    .dataframe thead th {\n",
              "        text-align: right;\n",
              "    }\n",
              "</style>\n",
              "<table border=\"1\" class=\"dataframe\">\n",
              "  <thead>\n",
              "    <tr style=\"text-align: right;\">\n",
              "      <th></th>\n",
              "      <th>Hospital_type_code</th>\n",
              "      <th>Hospital_region_code</th>\n",
              "      <th>Department</th>\n",
              "      <th>Ward_Type</th>\n",
              "      <th>Ward_Facility_Code</th>\n",
              "      <th>Type of Admission</th>\n",
              "      <th>Severity of Illness</th>\n",
              "      <th>Age</th>\n",
              "      <th>Stay</th>\n",
              "    </tr>\n",
              "  </thead>\n",
              "  <tbody>\n",
              "    <tr>\n",
              "      <th>count</th>\n",
              "      <td>318438</td>\n",
              "      <td>318438</td>\n",
              "      <td>318438</td>\n",
              "      <td>318438</td>\n",
              "      <td>318438</td>\n",
              "      <td>318438</td>\n",
              "      <td>318438</td>\n",
              "      <td>318438</td>\n",
              "      <td>318438</td>\n",
              "    </tr>\n",
              "    <tr>\n",
              "      <th>unique</th>\n",
              "      <td>7</td>\n",
              "      <td>3</td>\n",
              "      <td>5</td>\n",
              "      <td>6</td>\n",
              "      <td>6</td>\n",
              "      <td>3</td>\n",
              "      <td>3</td>\n",
              "      <td>10</td>\n",
              "      <td>11</td>\n",
              "    </tr>\n",
              "    <tr>\n",
              "      <th>top</th>\n",
              "      <td>a</td>\n",
              "      <td>X</td>\n",
              "      <td>gynecology</td>\n",
              "      <td>R</td>\n",
              "      <td>F</td>\n",
              "      <td>Trauma</td>\n",
              "      <td>Moderate</td>\n",
              "      <td>41-50</td>\n",
              "      <td>21-30</td>\n",
              "    </tr>\n",
              "    <tr>\n",
              "      <th>freq</th>\n",
              "      <td>143425</td>\n",
              "      <td>133336</td>\n",
              "      <td>249486</td>\n",
              "      <td>127947</td>\n",
              "      <td>112753</td>\n",
              "      <td>152261</td>\n",
              "      <td>175843</td>\n",
              "      <td>63749</td>\n",
              "      <td>87491</td>\n",
              "    </tr>\n",
              "  </tbody>\n",
              "</table>\n",
              "</div>\n",
              "      <button class=\"colab-df-convert\" onclick=\"convertToInteractive('df-f1c57c55-c5bb-4328-ac94-cc107bcfdbb9')\"\n",
              "              title=\"Convert this dataframe to an interactive table.\"\n",
              "              style=\"display:none;\">\n",
              "        \n",
              "  <svg xmlns=\"http://www.w3.org/2000/svg\" height=\"24px\"viewBox=\"0 0 24 24\"\n",
              "       width=\"24px\">\n",
              "    <path d=\"M0 0h24v24H0V0z\" fill=\"none\"/>\n",
              "    <path d=\"M18.56 5.44l.94 2.06.94-2.06 2.06-.94-2.06-.94-.94-2.06-.94 2.06-2.06.94zm-11 1L8.5 8.5l.94-2.06 2.06-.94-2.06-.94L8.5 2.5l-.94 2.06-2.06.94zm10 10l.94 2.06.94-2.06 2.06-.94-2.06-.94-.94-2.06-.94 2.06-2.06.94z\"/><path d=\"M17.41 7.96l-1.37-1.37c-.4-.4-.92-.59-1.43-.59-.52 0-1.04.2-1.43.59L10.3 9.45l-7.72 7.72c-.78.78-.78 2.05 0 2.83L4 21.41c.39.39.9.59 1.41.59.51 0 1.02-.2 1.41-.59l7.78-7.78 2.81-2.81c.8-.78.8-2.07 0-2.86zM5.41 20L4 18.59l7.72-7.72 1.47 1.35L5.41 20z\"/>\n",
              "  </svg>\n",
              "      </button>\n",
              "      \n",
              "  <style>\n",
              "    .colab-df-container {\n",
              "      display:flex;\n",
              "      flex-wrap:wrap;\n",
              "      gap: 12px;\n",
              "    }\n",
              "\n",
              "    .colab-df-convert {\n",
              "      background-color: #E8F0FE;\n",
              "      border: none;\n",
              "      border-radius: 50%;\n",
              "      cursor: pointer;\n",
              "      display: none;\n",
              "      fill: #1967D2;\n",
              "      height: 32px;\n",
              "      padding: 0 0 0 0;\n",
              "      width: 32px;\n",
              "    }\n",
              "\n",
              "    .colab-df-convert:hover {\n",
              "      background-color: #E2EBFA;\n",
              "      box-shadow: 0px 1px 2px rgba(60, 64, 67, 0.3), 0px 1px 3px 1px rgba(60, 64, 67, 0.15);\n",
              "      fill: #174EA6;\n",
              "    }\n",
              "\n",
              "    [theme=dark] .colab-df-convert {\n",
              "      background-color: #3B4455;\n",
              "      fill: #D2E3FC;\n",
              "    }\n",
              "\n",
              "    [theme=dark] .colab-df-convert:hover {\n",
              "      background-color: #434B5C;\n",
              "      box-shadow: 0px 1px 3px 1px rgba(0, 0, 0, 0.15);\n",
              "      filter: drop-shadow(0px 1px 2px rgba(0, 0, 0, 0.3));\n",
              "      fill: #FFFFFF;\n",
              "    }\n",
              "  </style>\n",
              "\n",
              "      <script>\n",
              "        const buttonEl =\n",
              "          document.querySelector('#df-f1c57c55-c5bb-4328-ac94-cc107bcfdbb9 button.colab-df-convert');\n",
              "        buttonEl.style.display =\n",
              "          google.colab.kernel.accessAllowed ? 'block' : 'none';\n",
              "\n",
              "        async function convertToInteractive(key) {\n",
              "          const element = document.querySelector('#df-f1c57c55-c5bb-4328-ac94-cc107bcfdbb9');\n",
              "          const dataTable =\n",
              "            await google.colab.kernel.invokeFunction('convertToInteractive',\n",
              "                                                     [key], {});\n",
              "          if (!dataTable) return;\n",
              "\n",
              "          const docLinkHtml = 'Like what you see? Visit the ' +\n",
              "            '<a target=\"_blank\" href=https://colab.research.google.com/notebooks/data_table.ipynb>data table notebook</a>'\n",
              "            + ' to learn more about interactive tables.';\n",
              "          element.innerHTML = '';\n",
              "          dataTable['output_type'] = 'display_data';\n",
              "          await google.colab.output.renderOutput(dataTable, element);\n",
              "          const docLink = document.createElement('div');\n",
              "          docLink.innerHTML = docLinkHtml;\n",
              "          element.appendChild(docLink);\n",
              "        }\n",
              "      </script>\n",
              "    </div>\n",
              "  </div>\n",
              "  "
            ]
          },
          "metadata": {},
          "execution_count": 12
        }
      ],
      "source": [
        "# Looking into the characteristics of the categorical variables and target (\"Stay\")\n",
        "df.describe(include=object)"
      ]
    },
    {
      "cell_type": "markdown",
      "id": "3cdc7c9c",
      "metadata": {
        "id": "3cdc7c9c"
      },
      "source": [
        "* There's 7 different hospital type codes, more frequent the \"a\" type\n",
        "* There's 3 different hospital region codes, more frequent the \"X\" type\n",
        "* There's 5 different departments, more frequent the gynecology one\n",
        "* There's 6 different ward types, more frequent the \"R\" type\n",
        "* There's 6 different ward facility codes, more frequent the \"F\" type\n",
        "* There's 3 different types of admission, more frequent the Trauma one\n",
        "* There's 3 different severity of illness, more frequent the Moderate one\n",
        "* The age is classified into ranges, so the more frequent is between 41-50\n",
        "* As the age, the lenght of stay is also classified into ranges, the more frequent between 21-30"
      ]
    },
    {
      "cell_type": "code",
      "execution_count": 13,
      "id": "505651de",
      "metadata": {
        "scrolled": true,
        "colab": {
          "base_uri": "https://localhost:8080/"
        },
        "id": "505651de",
        "outputId": "63f7be05-b6eb-415d-e173-b4203c1f5909"
      },
      "outputs": [
        {
          "output_type": "execute_result",
          "data": {
            "text/plain": [
              "21-30                 87491\n",
              "11-20                 78139\n",
              "31-40                 55159\n",
              "51-60                 35018\n",
              "0-10                  23604\n",
              "41-50                 11743\n",
              "71-80                 10254\n",
              "More than 100 Days     6683\n",
              "81-90                  4838\n",
              "91-100                 2765\n",
              "61-70                  2744\n",
              "Name: Stay, dtype: int64"
            ]
          },
          "metadata": {},
          "execution_count": 13
        }
      ],
      "source": [
        "df['Stay'].value_counts()"
      ]
    },
    {
      "cell_type": "markdown",
      "id": "ddd911f8",
      "metadata": {
        "id": "ddd911f8"
      },
      "source": [
        "# Data Cleaning"
      ]
    },
    {
      "cell_type": "markdown",
      "id": "1604a84a",
      "metadata": {
        "id": "1604a84a"
      },
      "source": [
        "**The proposal for this analysis is to separate the lenght of Stay into 2 categories: ≤ 30 days and > 30 day.**"
      ]
    },
    {
      "cell_type": "code",
      "execution_count": 14,
      "id": "f612b5d9",
      "metadata": {
        "id": "f612b5d9"
      },
      "outputs": [],
      "source": [
        "# Creating a copy from the original dataset\n",
        "df_EDA = df.copy()"
      ]
    },
    {
      "cell_type": "markdown",
      "id": "841d66c5",
      "metadata": {
        "id": "841d66c5"
      },
      "source": [
        "### Null values"
      ]
    },
    {
      "cell_type": "code",
      "execution_count": 15,
      "id": "42e7860b",
      "metadata": {
        "colab": {
          "base_uri": "https://localhost:8080/"
        },
        "id": "42e7860b",
        "outputId": "dd38f10f-6911-4d72-cb6f-cf611b29850f"
      },
      "outputs": [
        {
          "output_type": "execute_result",
          "data": {
            "text/plain": [
              "City_Code_Patient                    1.423197\n",
              "Bed Grade                            0.035486\n",
              "Hospital_code                        0.000000\n",
              "Admission_Deposit                    0.000000\n",
              "Age                                  0.000000\n",
              "Visitors with Patient                0.000000\n",
              "Severity of Illness                  0.000000\n",
              "Type of Admission                    0.000000\n",
              "patientid                            0.000000\n",
              "case_id                              0.000000\n",
              "Ward_Facility_Code                   0.000000\n",
              "Ward_Type                            0.000000\n",
              "Department                           0.000000\n",
              "Available Extra Rooms in Hospital    0.000000\n",
              "Hospital_region_code                 0.000000\n",
              "City_Code_Hospital                   0.000000\n",
              "Hospital_type_code                   0.000000\n",
              "Stay                                 0.000000\n",
              "dtype: float64"
            ]
          },
          "metadata": {},
          "execution_count": 15
        }
      ],
      "source": [
        "# Checking the amout of null values, in percentage, and sorting\n",
        "(df_EDA.isnull().sum() / df_EDA.shape[0] * 100).sort_values(ascending=False)"
      ]
    },
    {
      "cell_type": "markdown",
      "id": "12b6ce1e",
      "metadata": {
        "id": "12b6ce1e"
      },
      "source": [
        "**The amount of null values in both columns (`City_Code_Patient` and `Bed Grade`) is not that big, so I'll just drop this row**"
      ]
    },
    {
      "cell_type": "code",
      "execution_count": 16,
      "id": "16b77bd8",
      "metadata": {
        "colab": {
          "base_uri": "https://localhost:8080/"
        },
        "id": "16b77bd8",
        "outputId": "e1a44386-5ad4-4fd3-9f88-bec298aeedf3"
      },
      "outputs": [
        {
          "output_type": "execute_result",
          "data": {
            "text/plain": [
              "(318438, 18)"
            ]
          },
          "metadata": {},
          "execution_count": 16
        }
      ],
      "source": [
        "# Checking the shape of the dataset before droping the null values\n",
        "df_EDA.shape"
      ]
    },
    {
      "cell_type": "code",
      "execution_count": 17,
      "id": "1f8343de",
      "metadata": {
        "id": "1f8343de"
      },
      "outputs": [],
      "source": [
        "# Dropping all the rows that contains any null values\n",
        "df_EDA.dropna(axis = 0, inplace=True)"
      ]
    },
    {
      "cell_type": "code",
      "execution_count": 18,
      "id": "f01a8602",
      "metadata": {
        "colab": {
          "base_uri": "https://localhost:8080/"
        },
        "id": "f01a8602",
        "outputId": "f11d9a14-93f1-4df7-c3c1-c8d8079b45aa"
      },
      "outputs": [
        {
          "output_type": "execute_result",
          "data": {
            "text/plain": [
              "case_id                              0\n",
              "Hospital_code                        0\n",
              "Hospital_type_code                   0\n",
              "City_Code_Hospital                   0\n",
              "Hospital_region_code                 0\n",
              "Available Extra Rooms in Hospital    0\n",
              "Department                           0\n",
              "Ward_Type                            0\n",
              "Ward_Facility_Code                   0\n",
              "Bed Grade                            0\n",
              "patientid                            0\n",
              "City_Code_Patient                    0\n",
              "Type of Admission                    0\n",
              "Severity of Illness                  0\n",
              "Visitors with Patient                0\n",
              "Age                                  0\n",
              "Admission_Deposit                    0\n",
              "Stay                                 0\n",
              "dtype: int64"
            ]
          },
          "metadata": {},
          "execution_count": 18
        }
      ],
      "source": [
        "# Checking if there's still null values\n",
        "df_EDA.isnull().sum()"
      ]
    },
    {
      "cell_type": "code",
      "execution_count": 19,
      "id": "7134c18b",
      "metadata": {
        "colab": {
          "base_uri": "https://localhost:8080/"
        },
        "id": "7134c18b",
        "outputId": "c262c168-32e1-4f4e-99da-cab9f41dfcdb"
      },
      "outputs": [
        {
          "output_type": "execute_result",
          "data": {
            "text/plain": [
              "(313793, 18)"
            ]
          },
          "metadata": {},
          "execution_count": 19
        }
      ],
      "source": [
        "# Checking the shape of the dataset after droping the null values\n",
        "df_EDA.shape"
      ]
    },
    {
      "cell_type": "markdown",
      "id": "9f9ffb3f",
      "metadata": {
        "id": "9f9ffb3f"
      },
      "source": [
        "**Still a large dataset**"
      ]
    },
    {
      "cell_type": "markdown",
      "id": "e27aa22d",
      "metadata": {
        "id": "e27aa22d"
      },
      "source": [
        "### Some datatypes need to be changed"
      ]
    },
    {
      "cell_type": "code",
      "execution_count": 20,
      "id": "6928c288",
      "metadata": {
        "colab": {
          "base_uri": "https://localhost:8080/"
        },
        "id": "6928c288",
        "outputId": "508432ca-fc54-4d68-da77-79f28ef17686"
      },
      "outputs": [
        {
          "output_type": "execute_result",
          "data": {
            "text/plain": [
              "case_id                                int64\n",
              "Hospital_code                          int64\n",
              "Hospital_type_code                    object\n",
              "City_Code_Hospital                     int64\n",
              "Hospital_region_code                  object\n",
              "Available Extra Rooms in Hospital      int64\n",
              "Department                            object\n",
              "Ward_Type                             object\n",
              "Ward_Facility_Code                    object\n",
              "Bed Grade                            float64\n",
              "patientid                              int64\n",
              "City_Code_Patient                    float64\n",
              "Type of Admission                     object\n",
              "Severity of Illness                   object\n",
              "Visitors with Patient                  int64\n",
              "Age                                   object\n",
              "Admission_Deposit                    float64\n",
              "Stay                                  object\n",
              "dtype: object"
            ]
          },
          "metadata": {},
          "execution_count": 20
        }
      ],
      "source": [
        "df_EDA.dtypes"
      ]
    },
    {
      "cell_type": "code",
      "execution_count": 21,
      "id": "2c84c3f7",
      "metadata": {
        "colab": {
          "base_uri": "https://localhost:8080/"
        },
        "id": "2c84c3f7",
        "outputId": "dcbb01e8-10c7-4f39-e972-e0a36b982fa5"
      },
      "outputs": [
        {
          "output_type": "execute_result",
          "data": {
            "text/plain": [
              "2.0    122297\n",
              "3.0    108878\n",
              "4.0     56406\n",
              "1.0     26212\n",
              "Name: Bed Grade, dtype: int64"
            ]
          },
          "metadata": {},
          "execution_count": 21
        }
      ],
      "source": [
        "# Checking each column that is a float type\n",
        "df_EDA[\"Bed Grade\"].value_counts()"
      ]
    },
    {
      "cell_type": "markdown",
      "id": "350782b0",
      "metadata": {
        "id": "350782b0"
      },
      "source": [
        "**There's no need for this column to be a float type**"
      ]
    },
    {
      "cell_type": "code",
      "execution_count": 22,
      "id": "619b6a3f",
      "metadata": {
        "scrolled": true,
        "colab": {
          "base_uri": "https://localhost:8080/"
        },
        "id": "619b6a3f",
        "outputId": "7531657f-3f6e-4fc0-f7ad-248f54a8f1e1"
      },
      "outputs": [
        {
          "output_type": "execute_result",
          "data": {
            "text/plain": [
              "8.0     123977\n",
              "2.0      38835\n",
              "1.0      26357\n",
              "7.0      23797\n",
              "5.0      20079\n",
              "4.0      15379\n",
              "9.0      11794\n",
              "15.0      8943\n",
              "10.0      8172\n",
              "6.0       6005\n",
              "12.0      5646\n",
              "3.0       3772\n",
              "23.0      3697\n",
              "14.0      2927\n",
              "16.0      2252\n",
              "13.0      1625\n",
              "21.0      1602\n",
              "20.0      1409\n",
              "18.0      1404\n",
              "19.0      1028\n",
              "26.0      1023\n",
              "25.0       798\n",
              "27.0       771\n",
              "11.0       658\n",
              "28.0       521\n",
              "22.0       405\n",
              "24.0       360\n",
              "30.0       133\n",
              "29.0        98\n",
              "33.0        78\n",
              "31.0        59\n",
              "37.0        57\n",
              "32.0        52\n",
              "34.0        46\n",
              "35.0        16\n",
              "36.0        12\n",
              "38.0         6\n",
              "Name: City_Code_Patient, dtype: int64"
            ]
          },
          "metadata": {},
          "execution_count": 22
        }
      ],
      "source": [
        "df_EDA[\"City_Code_Patient\"].value_counts()"
      ]
    },
    {
      "cell_type": "markdown",
      "id": "4b88438f",
      "metadata": {
        "id": "4b88438f"
      },
      "source": [
        "**There's no need for this column to be a float type**"
      ]
    },
    {
      "cell_type": "code",
      "execution_count": 23,
      "id": "a9a5c564",
      "metadata": {
        "colab": {
          "base_uri": "https://localhost:8080/"
        },
        "id": "a9a5c564",
        "outputId": "7cdb1112-291e-411b-9f73-9aa0d9e4c03a"
      },
      "outputs": [
        {
          "output_type": "execute_result",
          "data": {
            "text/plain": [
              "4469.0     386\n",
              "4277.0     369\n",
              "4624.0     343\n",
              "4789.0     295\n",
              "4400.0     280\n",
              "          ... \n",
              "10137.0      1\n",
              "2016.0       1\n",
              "8511.0       1\n",
              "1872.0       1\n",
              "2349.0       1\n",
              "Name: Admission_Deposit, Length: 7283, dtype: int64"
            ]
          },
          "metadata": {},
          "execution_count": 23
        }
      ],
      "source": [
        "df_EDA[\"Admission_Deposit\"].value_counts()"
      ]
    },
    {
      "cell_type": "markdown",
      "id": "bdb30a82",
      "metadata": {
        "id": "bdb30a82"
      },
      "source": [
        "**This column refers to money, so it's a right thing to be as float type**"
      ]
    },
    {
      "cell_type": "code",
      "execution_count": 24,
      "id": "85bbb693",
      "metadata": {
        "id": "85bbb693"
      },
      "outputs": [],
      "source": [
        "# Changing the column \"Bed Grade\" and \"City_Code_Patient\" to int type\n",
        "df_EDA[\"Bed Grade\"] = df_EDA[\"Bed Grade\"].apply(np.int64)\n",
        "df_EDA[\"City_Code_Patient\"] = df_EDA[\"City_Code_Patient\"].apply(np.int64)"
      ]
    },
    {
      "cell_type": "code",
      "execution_count": 25,
      "id": "b77a922d",
      "metadata": {
        "colab": {
          "base_uri": "https://localhost:8080/"
        },
        "id": "b77a922d",
        "outputId": "9cee5aa0-c155-411d-f4f1-55a8e0e8ed3c"
      },
      "outputs": [
        {
          "output_type": "execute_result",
          "data": {
            "text/plain": [
              "case_id                                int64\n",
              "Hospital_code                          int64\n",
              "Hospital_type_code                    object\n",
              "City_Code_Hospital                     int64\n",
              "Hospital_region_code                  object\n",
              "Available Extra Rooms in Hospital      int64\n",
              "Department                            object\n",
              "Ward_Type                             object\n",
              "Ward_Facility_Code                    object\n",
              "Bed Grade                              int64\n",
              "patientid                              int64\n",
              "City_Code_Patient                      int64\n",
              "Type of Admission                     object\n",
              "Severity of Illness                   object\n",
              "Visitors with Patient                  int64\n",
              "Age                                   object\n",
              "Admission_Deposit                    float64\n",
              "Stay                                  object\n",
              "dtype: object"
            ]
          },
          "metadata": {},
          "execution_count": 25
        }
      ],
      "source": [
        "# Checking if the type changed\n",
        "df_EDA.dtypes"
      ]
    },
    {
      "cell_type": "markdown",
      "id": "a707bd10",
      "metadata": {
        "id": "a707bd10"
      },
      "source": [
        "## Target modification"
      ]
    },
    {
      "cell_type": "code",
      "execution_count": 26,
      "id": "07b3a18f",
      "metadata": {
        "scrolled": true,
        "colab": {
          "base_uri": "https://localhost:8080/"
        },
        "id": "07b3a18f",
        "outputId": "6ce36833-10b3-4d14-b8c7-49f6c4b8e36f"
      },
      "outputs": [
        {
          "output_type": "execute_result",
          "data": {
            "text/plain": [
              "21-30                 86316\n",
              "11-20                 77095\n",
              "31-40                 54312\n",
              "51-60                 34463\n",
              "0-10                  23250\n",
              "41-50                 11541\n",
              "71-80                 10096\n",
              "More than 100 Days     6548\n",
              "81-90                  4761\n",
              "91-100                 2713\n",
              "61-70                  2698\n",
              "Name: Stay, dtype: int64"
            ]
          },
          "metadata": {},
          "execution_count": 26
        }
      ],
      "source": [
        "# Checking the distribution of the target\n",
        "df_EDA[\"Stay\"].value_counts()"
      ]
    },
    {
      "cell_type": "code",
      "execution_count": 27,
      "id": "3e286182",
      "metadata": {
        "id": "3e286182"
      },
      "outputs": [],
      "source": [
        "# Changing the target into 2 categories: ≤ 10 days and > 10 days\n",
        "df_EDA[\"Stay\"] = df_EDA[\"Stay\"].replace(['0-10', '11-20', '21-30'], 0)\n",
        "df_EDA[\"Stay\"] = df_EDA[\"Stay\"].replace(['31-40','41-50','51-60', \n",
        "                                         '61-70', '71-80', '81-90',\n",
        "                                         '91-100', 'More than 100 Days'], 1)"
      ]
    },
    {
      "cell_type": "markdown",
      "id": "f340392e",
      "metadata": {
        "id": "f340392e"
      },
      "source": [
        "**In this modification, lengh of stay ≤ 30 days will be 0 and > 30 days will be 1**"
      ]
    },
    {
      "cell_type": "code",
      "execution_count": 28,
      "id": "b8b3fe9b",
      "metadata": {
        "colab": {
          "base_uri": "https://localhost:8080/"
        },
        "id": "b8b3fe9b",
        "outputId": "8c2ed9c5-e243-4d5d-fe9a-346321c89084"
      },
      "outputs": [
        {
          "output_type": "execute_result",
          "data": {
            "text/plain": [
              "0    186661\n",
              "1    127132\n",
              "Name: Stay, dtype: int64"
            ]
          },
          "metadata": {},
          "execution_count": 28
        }
      ],
      "source": [
        "# Checking the new distribution of the target\n",
        "df_EDA[\"Stay\"].value_counts()"
      ]
    },
    {
      "cell_type": "code",
      "execution_count": 29,
      "id": "667e85f4",
      "metadata": {
        "colab": {
          "base_uri": "https://localhost:8080/"
        },
        "id": "667e85f4",
        "outputId": "9abecf41-3cf2-4a42-ec52-237f397a0a02"
      },
      "outputs": [
        {
          "output_type": "execute_result",
          "data": {
            "text/plain": [
              "case_id                              0\n",
              "Hospital_code                        0\n",
              "Hospital_type_code                   0\n",
              "City_Code_Hospital                   0\n",
              "Hospital_region_code                 0\n",
              "Available Extra Rooms in Hospital    0\n",
              "Department                           0\n",
              "Ward_Type                            0\n",
              "Ward_Facility_Code                   0\n",
              "Bed Grade                            0\n",
              "patientid                            0\n",
              "City_Code_Patient                    0\n",
              "Type of Admission                    0\n",
              "Severity of Illness                  0\n",
              "Visitors with Patient                0\n",
              "Age                                  0\n",
              "Admission_Deposit                    0\n",
              "Stay                                 0\n",
              "dtype: int64"
            ]
          },
          "metadata": {},
          "execution_count": 29
        }
      ],
      "source": [
        "# Checking if this modification created any null values\n",
        "df_EDA.isnull().sum()"
      ]
    },
    {
      "cell_type": "markdown",
      "id": "b81786ac",
      "metadata": {
        "id": "b81786ac"
      },
      "source": [
        "# Exploratory Data Analysis"
      ]
    },
    {
      "cell_type": "code",
      "execution_count": 30,
      "id": "84d059cb",
      "metadata": {
        "id": "84d059cb"
      },
      "outputs": [],
      "source": [
        "# Creating another dataframe with only the categorical columns\n",
        "df_EDA_obj = df_EDA.select_dtypes(include='object')"
      ]
    },
    {
      "cell_type": "code",
      "execution_count": 31,
      "id": "7874c3e6",
      "metadata": {
        "colab": {
          "base_uri": "https://localhost:8080/",
          "height": 1000
        },
        "id": "7874c3e6",
        "outputId": "23513e1c-efa1-4f94-ee2d-cefa0067ca9c"
      },
      "outputs": [
        {
          "output_type": "display_data",
          "data": {
            "text/plain": [
              "<Figure size 1296x2160 with 8 Axes>"
            ],
            "image/png": "[encoded data removed]"
          },
          "metadata": {
            "needs_background": "light"
          }
        }
      ],
      "source": [
        "# Ploting the distribution of all categorical data\n",
        "\n",
        "# Figure Size\n",
        "plt.figure(figsize = (18,30))\n",
        "\n",
        "# List of columns\n",
        "column_list = list(df_EDA_obj.columns.values)\n",
        "\n",
        "# Counter\n",
        "A = 0\n",
        "\n",
        "# Loop\n",
        "for i in column_list:\n",
        "    A += 1\n",
        "    plt.subplot(5, 2, A)\n",
        "    ax = sns.countplot(data = df_EDA_obj.fillna('NaN'), x = i)\n",
        "    plt.title(i, fontsize = 15)\n",
        "    for p in ax.patches:\n",
        "        ax.annotate(f'\\n{p.get_height()}', (p.get_x()+0.4, p.get_height()), ha = 'center', color = 'black', size = 12)\n",
        "    if A >= 7:\n",
        "        plt.xticks(rotation = 45)\n",
        "\n",
        "# Layout\n",
        "plt.tight_layout(h_pad = 2)"
      ]
    },
    {
      "cell_type": "code",
      "execution_count": 32,
      "id": "f338c4f6",
      "metadata": {
        "id": "f338c4f6"
      },
      "outputs": [],
      "source": [
        "# Creating another dataframe with only the numerical columns, excepting for case id, patient id and admission deposit\n",
        "# The column \"Admission_Deposit\" were droped because is the only one with continuum variable\n",
        "\n",
        "df_EDA_num = df_EDA.select_dtypes(include='number').drop(columns=['case_id','patientid', 'Admission_Deposit'], axis=1)"
      ]
    },
    {
      "cell_type": "code",
      "execution_count": 33,
      "id": "e2829aeb",
      "metadata": {
        "scrolled": true,
        "colab": {
          "base_uri": "https://localhost:8080/",
          "height": 1000
        },
        "id": "e2829aeb",
        "outputId": "60a67626-4821-4090-ae8a-cd41af40fe74"
      },
      "outputs": [
        {
          "output_type": "display_data",
          "data": {
            "text/plain": [
              "<Figure size 1296x2160 with 7 Axes>"
            ],
            "image/png": "[encoded data removed]"
          },
          "metadata": {
            "needs_background": "light"
          }
        }
      ],
      "source": [
        "# Ploting the distribution of all numerical data, that works as a categorical one\n",
        "\n",
        "# Figure Size\n",
        "plt.figure(figsize = (18,30))\n",
        "\n",
        "# List of columns\n",
        "column_list = list(df_EDA_num.columns.values)\n",
        "\n",
        "# Counter\n",
        "A = 0\n",
        "\n",
        "# Loop\n",
        "for i in column_list:\n",
        "    A += 1\n",
        "    plt.subplot(5, 2, A)\n",
        "    ax = sns.countplot(data = df_EDA_num.fillna('NaN'), x = i)\n",
        "    plt.title(i, fontsize = 15)\n",
        "    for p in ax.patches:\n",
        "        ax.annotate(f'\\n{p.get_height()}', (p.get_x()+0.4, p.get_height()), ha = 'center', color = 'black', size = 12)\n",
        "    if A >= 7:\n",
        "        plt.xticks(rotation = 45)\n",
        "\n",
        "# Layout\n",
        "plt.tight_layout(h_pad = 2)"
      ]
    },
    {
      "cell_type": "code",
      "execution_count": 34,
      "id": "50b2ffe8",
      "metadata": {
        "colab": {
          "base_uri": "https://localhost:8080/",
          "height": 435
        },
        "id": "50b2ffe8",
        "outputId": "58884a8f-a438-4c6b-bc0c-a0a5b96eec48"
      },
      "outputs": [
        {
          "output_type": "stream",
          "name": "stderr",
          "text": [
            "/usr/local/lib/python3.8/dist-packages/seaborn/_decorators.py:36: FutureWarning: Pass the following variable as a keyword arg: x. From version 0.12, the only valid positional argument will be `data`, and passing other arguments without an explicit keyword will result in an error or misinterpretation.\n",
            "  warnings.warn(\n"
          ]
        },
        {
          "output_type": "display_data",
          "data": {
            "text/plain": [
              "<Figure size 1224x864 with 2 Axes>"
            ],
            "image/png": "[encoded data removed]"
          },
          "metadata": {
            "needs_background": "light"
          }
        }
      ],
      "source": [
        "# Ploting the distribution of Admission Deposit \n",
        "\n",
        "# Figure Size\n",
        "plt.figure(figsize = (17,12))\n",
        "\n",
        "# Subplots with histograms\n",
        "plt.subplot(221)\n",
        "sns.color_palette(\"hls\", 8)\n",
        "sns.histplot(df_EDA['Admission_Deposit'], kde = True, color = \"green\")\n",
        "plt.title('Admission Deposit Histogram', fontsize = 20)\n",
        "\n",
        "# Subplots with boxplots\n",
        "plt.subplot(222)\n",
        "sns.boxplot(df_EDA['Admission_Deposit'], color = \"green\")\n",
        "plt.title('Admission Deposit Boxplot', fontsize = 20)\n",
        "\n",
        "plt.show()"
      ]
    },
    {
      "cell_type": "code",
      "execution_count": 35,
      "id": "73fa55d4",
      "metadata": {
        "colab": {
          "base_uri": "https://localhost:8080/"
        },
        "id": "73fa55d4",
        "outputId": "ec249bec-281f-43da-b7be-4d3f7b01e49c"
      },
      "outputs": [
        {
          "output_type": "execute_result",
          "data": {
            "text/plain": [
              "Index(['case_id', 'Hospital_code', 'Hospital_type_code', 'City_Code_Hospital',\n",
              "       'Hospital_region_code', 'Available Extra Rooms in Hospital',\n",
              "       'Department', 'Ward_Type', 'Ward_Facility_Code', 'Bed Grade',\n",
              "       'patientid', 'City_Code_Patient', 'Type of Admission',\n",
              "       'Severity of Illness', 'Visitors with Patient', 'Age',\n",
              "       'Admission_Deposit', 'Stay'],\n",
              "      dtype='object')"
            ]
          },
          "metadata": {},
          "execution_count": 35
        }
      ],
      "source": [
        "df_EDA.columns"
      ]
    },
    {
      "cell_type": "markdown",
      "id": "fed568bc",
      "metadata": {
        "id": "fed568bc"
      },
      "source": [
        "### Which are the mean admission for the each patient ?"
      ]
    },
    {
      "cell_type": "code",
      "execution_count": 37,
      "id": "67f110d0",
      "metadata": {
        "colab": {
          "base_uri": "https://localhost:8080/"
        },
        "id": "67f110d0",
        "outputId": "4a5e7ef4-4e1f-4806-f541-2b036925d8f9"
      },
      "outputs": [
        {
          "output_type": "execute_result",
          "data": {
            "text/plain": [
              "3.4733131143186045"
            ]
          },
          "metadata": {},
          "execution_count": 37
        }
      ],
      "source": [
        "df_EDA.groupby('patientid')['case_id'].count().mean()"
      ]
    },
    {
      "cell_type": "code",
      "execution_count": 38,
      "id": "ebc44702",
      "metadata": {
        "colab": {
          "base_uri": "https://localhost:8080/"
        },
        "id": "ebc44702",
        "outputId": "6007c141-89d1-4cc9-c143-7613b4dfd9ad"
      },
      "outputs": [
        {
          "output_type": "execute_result",
          "data": {
            "text/plain": [
              "3.0"
            ]
          },
          "metadata": {},
          "execution_count": 38
        }
      ],
      "source": [
        "df_EDA.groupby('patientid')['case_id'].count().median()"
      ]
    },
    {
      "cell_type": "markdown",
      "id": "172d662e",
      "metadata": {
        "id": "172d662e"
      },
      "source": [
        "**We can see that the median admission amount is smaller that the mean, it shows that there're some outliers that is making the mean have higher value**"
      ]
    },
    {
      "cell_type": "markdown",
      "id": "2a8c646b",
      "metadata": {
        "id": "2a8c646b"
      },
      "source": [
        "### Which patients are causing this mean admission value becoming higher ?"
      ]
    },
    {
      "cell_type": "code",
      "execution_count": 39,
      "id": "73a1970c",
      "metadata": {
        "colab": {
          "base_uri": "https://localhost:8080/",
          "height": 424
        },
        "id": "73a1970c",
        "outputId": "e88f102b-7f42-456c-b584-684267e7c816"
      },
      "outputs": [
        {
          "output_type": "execute_result",
          "data": {
            "text/plain": [
              "       patientid  case_id\n",
              "45848      66714       50\n",
              "62799      91292       43\n",
              "26445      38525       39\n",
              "69689     101359       36\n",
              "23000      33491       34\n",
              "...          ...      ...\n",
              "27730      40387        1\n",
              "67342      97941        1\n",
              "67341      97939        1\n",
              "41199      60024        1\n",
              "16292      23603        1\n",
              "\n",
              "[90344 rows x 2 columns]"
            ],
            "text/html": [
              "\n",
              "  <div id=\"df-87259f98-4150-4c8e-802d-245ef2fc4258\">\n",
              "    <div class=\"colab-df-container\">\n",
              "      <div>\n",
              "<style scoped>\n",
              "    .dataframe tbody tr th:only-of-type {\n",
              "        vertical-align: middle;\n",
              "    }\n",
              "\n",
              "    .dataframe tbody tr th {\n",
              "        vertical-align: top;\n",
              "    }\n",
              "\n",
              "    .dataframe thead th {\n",
              "        text-align: right;\n",
              "    }\n",
              "</style>\n",
              "<table border=\"1\" class=\"dataframe\">\n",
              "  <thead>\n",
              "    <tr style=\"text-align: right;\">\n",
              "      <th></th>\n",
              "      <th>patientid</th>\n",
              "      <th>case_id</th>\n",
              "    </tr>\n",
              "  </thead>\n",
              "  <tbody>\n",
              "    <tr>\n",
              "      <th>45848</th>\n",
              "      <td>66714</td>\n",
              "      <td>50</td>\n",
              "    </tr>\n",
              "    <tr>\n",
              "      <th>62799</th>\n",
              "      <td>91292</td>\n",
              "      <td>43</td>\n",
              "    </tr>\n",
              "    <tr>\n",
              "      <th>26445</th>\n",
              "      <td>38525</td>\n",
              "      <td>39</td>\n",
              "    </tr>\n",
              "    <tr>\n",
              "      <th>69689</th>\n",
              "      <td>101359</td>\n",
              "      <td>36</td>\n",
              "    </tr>\n",
              "    <tr>\n",
              "      <th>23000</th>\n",
              "      <td>33491</td>\n",
              "      <td>34</td>\n",
              "    </tr>\n",
              "    <tr>\n",
              "      <th>...</th>\n",
              "      <td>...</td>\n",
              "      <td>...</td>\n",
              "    </tr>\n",
              "    <tr>\n",
              "      <th>27730</th>\n",
              "      <td>40387</td>\n",
              "      <td>1</td>\n",
              "    </tr>\n",
              "    <tr>\n",
              "      <th>67342</th>\n",
              "      <td>97941</td>\n",
              "      <td>1</td>\n",
              "    </tr>\n",
              "    <tr>\n",
              "      <th>67341</th>\n",
              "      <td>97939</td>\n",
              "      <td>1</td>\n",
              "    </tr>\n",
              "    <tr>\n",
              "      <th>41199</th>\n",
              "      <td>60024</td>\n",
              "      <td>1</td>\n",
              "    </tr>\n",
              "    <tr>\n",
              "      <th>16292</th>\n",
              "      <td>23603</td>\n",
              "      <td>1</td>\n",
              "    </tr>\n",
              "  </tbody>\n",
              "</table>\n",
              "<p>90344 rows × 2 columns</p>\n",
              "</div>\n",
              "      <button class=\"colab-df-convert\" onclick=\"convertToInteractive('df-87259f98-4150-4c8e-802d-245ef2fc4258')\"\n",
              "              title=\"Convert this dataframe to an interactive table.\"\n",
              "              style=\"display:none;\">\n",
              "        \n",
              "  <svg xmlns=\"http://www.w3.org/2000/svg\" height=\"24px\"viewBox=\"0 0 24 24\"\n",
              "       width=\"24px\">\n",
              "    <path d=\"M0 0h24v24H0V0z\" fill=\"none\"/>\n",
              "    <path d=\"M18.56 5.44l.94 2.06.94-2.06 2.06-.94-2.06-.94-.94-2.06-.94 2.06-2.06.94zm-11 1L8.5 8.5l.94-2.06 2.06-.94-2.06-.94L8.5 2.5l-.94 2.06-2.06.94zm10 10l.94 2.06.94-2.06 2.06-.94-2.06-.94-.94-2.06-.94 2.06-2.06.94z\"/><path d=\"M17.41 7.96l-1.37-1.37c-.4-.4-.92-.59-1.43-.59-.52 0-1.04.2-1.43.59L10.3 9.45l-7.72 7.72c-.78.78-.78 2.05 0 2.83L4 21.41c.39.39.9.59 1.41.59.51 0 1.02-.2 1.41-.59l7.78-7.78 2.81-2.81c.8-.78.8-2.07 0-2.86zM5.41 20L4 18.59l7.72-7.72 1.47 1.35L5.41 20z\"/>\n",
              "  </svg>\n",
              "      </button>\n",
              "      \n",
              "  <style>\n",
              "    .colab-df-container {\n",
              "      display:flex;\n",
              "      flex-wrap:wrap;\n",
              "      gap: 12px;\n",
              "    }\n",
              "\n",
              "    .colab-df-convert {\n",
              "      background-color: #E8F0FE;\n",
              "      border: none;\n",
              "      border-radius: 50%;\n",
              "      cursor: pointer;\n",
              "      display: none;\n",
              "      fill: #1967D2;\n",
              "      height: 32px;\n",
              "      padding: 0 0 0 0;\n",
              "      width: 32px;\n",
              "    }\n",
              "\n",
              "    .colab-df-convert:hover {\n",
              "      background-color: #E2EBFA;\n",
              "      box-shadow: 0px 1px 2px rgba(60, 64, 67, 0.3), 0px 1px 3px 1px rgba(60, 64, 67, 0.15);\n",
              "      fill: #174EA6;\n",
              "    }\n",
              "\n",
              "    [theme=dark] .colab-df-convert {\n",
              "      background-color: #3B4455;\n",
              "      fill: #D2E3FC;\n",
              "    }\n",
              "\n",
              "    [theme=dark] .colab-df-convert:hover {\n",
              "      background-color: #434B5C;\n",
              "      box-shadow: 0px 1px 3px 1px rgba(0, 0, 0, 0.15);\n",
              "      filter: drop-shadow(0px 1px 2px rgba(0, 0, 0, 0.3));\n",
              "      fill: #FFFFFF;\n",
              "    }\n",
              "  </style>\n",
              "\n",
              "      <script>\n",
              "        const buttonEl =\n",
              "          document.querySelector('#df-87259f98-4150-4c8e-802d-245ef2fc4258 button.colab-df-convert');\n",
              "        buttonEl.style.display =\n",
              "          google.colab.kernel.accessAllowed ? 'block' : 'none';\n",
              "\n",
              "        async function convertToInteractive(key) {\n",
              "          const element = document.querySelector('#df-87259f98-4150-4c8e-802d-245ef2fc4258');\n",
              "          const dataTable =\n",
              "            await google.colab.kernel.invokeFunction('convertToInteractive',\n",
              "                                                     [key], {});\n",
              "          if (!dataTable) return;\n",
              "\n",
              "          const docLinkHtml = 'Like what you see? Visit the ' +\n",
              "            '<a target=\"_blank\" href=https://colab.research.google.com/notebooks/data_table.ipynb>data table notebook</a>'\n",
              "            + ' to learn more about interactive tables.';\n",
              "          element.innerHTML = '';\n",
              "          dataTable['output_type'] = 'display_data';\n",
              "          await google.colab.output.renderOutput(dataTable, element);\n",
              "          const docLink = document.createElement('div');\n",
              "          docLink.innerHTML = docLinkHtml;\n",
              "          element.appendChild(docLink);\n",
              "        }\n",
              "      </script>\n",
              "    </div>\n",
              "  </div>\n",
              "  "
            ]
          },
          "metadata": {},
          "execution_count": 39
        }
      ],
      "source": [
        "total_admissions = df_EDA.groupby('patientid')['case_id'].count().reset_index().sort_values('case_id', ascending=False)\n",
        "total_admissions"
      ]
    },
    {
      "cell_type": "code",
      "execution_count": 40,
      "id": "6b092b0c",
      "metadata": {
        "colab": {
          "base_uri": "https://localhost:8080/",
          "height": 352
        },
        "id": "6b092b0c",
        "outputId": "e42d7ff0-4fe4-4fb0-edb1-cef87be4d268"
      },
      "outputs": [
        {
          "output_type": "stream",
          "name": "stderr",
          "text": [
            "/usr/local/lib/python3.8/dist-packages/seaborn/_decorators.py:36: FutureWarning: Pass the following variable as a keyword arg: x. From version 0.12, the only valid positional argument will be `data`, and passing other arguments without an explicit keyword will result in an error or misinterpretation.\n",
            "  warnings.warn(\n"
          ]
        },
        {
          "output_type": "display_data",
          "data": {
            "text/plain": [
              "<Figure size 432x288 with 1 Axes>"
            ],
            "image/png": "[encoded data removed]"
          },
          "metadata": {
            "needs_background": "light"
          }
        }
      ],
      "source": [
        "# Boxplot about the total admissions\n",
        "sns.boxplot(total_admissions['case_id'], color = \"green\")\n",
        "plt.title('Total Admissions Boxplot', fontsize = 20)\n",
        "\n",
        "plt.tight_layout()"
      ]
    },
    {
      "cell_type": "code",
      "execution_count": 41,
      "id": "67718bd9",
      "metadata": {
        "colab": {
          "base_uri": "https://localhost:8080/"
        },
        "id": "67718bd9",
        "outputId": "b8547c3e-be15-41a1-f293-127a6bf72630"
      },
      "outputs": [
        {
          "output_type": "execute_result",
          "data": {
            "text/plain": [
              "3.0"
            ]
          },
          "metadata": {},
          "execution_count": 41
        }
      ],
      "source": [
        "#calculate interquartile range \n",
        "q3, q1 = np.percentile(total_admissions['case_id'], [75 ,25])\n",
        "iqr = q3 - q1\n",
        "iqr"
      ]
    },
    {
      "cell_type": "code",
      "execution_count": 42,
      "id": "f963fede",
      "metadata": {
        "colab": {
          "base_uri": "https://localhost:8080/"
        },
        "id": "f963fede",
        "outputId": "795dd5ed-396a-4ef2-c1b9-86d7c9e6469c"
      },
      "outputs": [
        {
          "output_type": "execute_result",
          "data": {
            "text/plain": [
              "9.5"
            ]
          },
          "metadata": {},
          "execution_count": 42
        }
      ],
      "source": [
        "# geting the boxplot maximun\n",
        "maximun_boxplot = q3 + 1.5*iqr\n",
        "maximun_boxplot"
      ]
    },
    {
      "cell_type": "code",
      "execution_count": 43,
      "id": "4356bb16",
      "metadata": {
        "scrolled": true,
        "colab": {
          "base_uri": "https://localhost:8080/",
          "height": 424
        },
        "id": "4356bb16",
        "outputId": "436a794c-91c8-476d-8952-e1c4a12618dc"
      },
      "outputs": [
        {
          "output_type": "execute_result",
          "data": {
            "text/plain": [
              "       patientid  case_id\n",
              "45848      66714       50\n",
              "62799      91292       43\n",
              "26445      38525       39\n",
              "69689     101359       36\n",
              "23000      33491       34\n",
              "...          ...      ...\n",
              "55445      80632       10\n",
              "19034      27706       10\n",
              "88308     128608       10\n",
              "90120     131284       10\n",
              "133          209       10\n",
              "\n",
              "[1769 rows x 2 columns]"
            ],
            "text/html": [
              "\n",
              "  <div id=\"df-7df7115c-d53a-45c9-95b8-de01a843d1b3\">\n",
              "    <div class=\"colab-df-container\">\n",
              "      <div>\n",
              "<style scoped>\n",
              "    .dataframe tbody tr th:only-of-type {\n",
              "        vertical-align: middle;\n",
              "    }\n",
              "\n",
              "    .dataframe tbody tr th {\n",
              "        vertical-align: top;\n",
              "    }\n",
              "\n",
              "    .dataframe thead th {\n",
              "        text-align: right;\n",
              "    }\n",
              "</style>\n",
              "<table border=\"1\" class=\"dataframe\">\n",
              "  <thead>\n",
              "    <tr style=\"text-align: right;\">\n",
              "      <th></th>\n",
              "      <th>patientid</th>\n",
              "      <th>case_id</th>\n",
              "    </tr>\n",
              "  </thead>\n",
              "  <tbody>\n",
              "    <tr>\n",
              "      <th>45848</th>\n",
              "      <td>66714</td>\n",
              "      <td>50</td>\n",
              "    </tr>\n",
              "    <tr>\n",
              "      <th>62799</th>\n",
              "      <td>91292</td>\n",
              "      <td>43</td>\n",
              "    </tr>\n",
              "    <tr>\n",
              "      <th>26445</th>\n",
              "      <td>38525</td>\n",
              "      <td>39</td>\n",
              "    </tr>\n",
              "    <tr>\n",
              "      <th>69689</th>\n",
              "      <td>101359</td>\n",
              "      <td>36</td>\n",
              "    </tr>\n",
              "    <tr>\n",
              "      <th>23000</th>\n",
              "      <td>33491</td>\n",
              "      <td>34</td>\n",
              "    </tr>\n",
              "    <tr>\n",
              "      <th>...</th>\n",
              "      <td>...</td>\n",
              "      <td>...</td>\n",
              "    </tr>\n",
              "    <tr>\n",
              "      <th>55445</th>\n",
              "      <td>80632</td>\n",
              "      <td>10</td>\n",
              "    </tr>\n",
              "    <tr>\n",
              "      <th>19034</th>\n",
              "      <td>27706</td>\n",
              "      <td>10</td>\n",
              "    </tr>\n",
              "    <tr>\n",
              "      <th>88308</th>\n",
              "      <td>128608</td>\n",
              "      <td>10</td>\n",
              "    </tr>\n",
              "    <tr>\n",
              "      <th>90120</th>\n",
              "      <td>131284</td>\n",
              "      <td>10</td>\n",
              "    </tr>\n",
              "    <tr>\n",
              "      <th>133</th>\n",
              "      <td>209</td>\n",
              "      <td>10</td>\n",
              "    </tr>\n",
              "  </tbody>\n",
              "</table>\n",
              "<p>1769 rows × 2 columns</p>\n",
              "</div>\n",
              "      <button class=\"colab-df-convert\" onclick=\"convertToInteractive('df-7df7115c-d53a-45c9-95b8-de01a843d1b3')\"\n",
              "              title=\"Convert this dataframe to an interactive table.\"\n",
              "              style=\"display:none;\">\n",
              "        \n",
              "  <svg xmlns=\"http://www.w3.org/2000/svg\" height=\"24px\"viewBox=\"0 0 24 24\"\n",
              "       width=\"24px\">\n",
              "    <path d=\"M0 0h24v24H0V0z\" fill=\"none\"/>\n",
              "    <path d=\"M18.56 5.44l.94 2.06.94-2.06 2.06-.94-2.06-.94-.94-2.06-.94 2.06-2.06.94zm-11 1L8.5 8.5l.94-2.06 2.06-.94-2.06-.94L8.5 2.5l-.94 2.06-2.06.94zm10 10l.94 2.06.94-2.06 2.06-.94-2.06-.94-.94-2.06-.94 2.06-2.06.94z\"/><path d=\"M17.41 7.96l-1.37-1.37c-.4-.4-.92-.59-1.43-.59-.52 0-1.04.2-1.43.59L10.3 9.45l-7.72 7.72c-.78.78-.78 2.05 0 2.83L4 21.41c.39.39.9.59 1.41.59.51 0 1.02-.2 1.41-.59l7.78-7.78 2.81-2.81c.8-.78.8-2.07 0-2.86zM5.41 20L4 18.59l7.72-7.72 1.47 1.35L5.41 20z\"/>\n",
              "  </svg>\n",
              "      </button>\n",
              "      \n",
              "  <style>\n",
              "    .colab-df-container {\n",
              "      display:flex;\n",
              "      flex-wrap:wrap;\n",
              "      gap: 12px;\n",
              "    }\n",
              "\n",
              "    .colab-df-convert {\n",
              "      background-color: #E8F0FE;\n",
              "      border: none;\n",
              "      border-radius: 50%;\n",
              "      cursor: pointer;\n",
              "      display: none;\n",
              "      fill: #1967D2;\n",
              "      height: 32px;\n",
              "      padding: 0 0 0 0;\n",
              "      width: 32px;\n",
              "    }\n",
              "\n",
              "    .colab-df-convert:hover {\n",
              "      background-color: #E2EBFA;\n",
              "      box-shadow: 0px 1px 2px rgba(60, 64, 67, 0.3), 0px 1px 3px 1px rgba(60, 64, 67, 0.15);\n",
              "      fill: #174EA6;\n",
              "    }\n",
              "\n",
              "    [theme=dark] .colab-df-convert {\n",
              "      background-color: #3B4455;\n",
              "      fill: #D2E3FC;\n",
              "    }\n",
              "\n",
              "    [theme=dark] .colab-df-convert:hover {\n",
              "      background-color: #434B5C;\n",
              "      box-shadow: 0px 1px 3px 1px rgba(0, 0, 0, 0.15);\n",
              "      filter: drop-shadow(0px 1px 2px rgba(0, 0, 0, 0.3));\n",
              "      fill: #FFFFFF;\n",
              "    }\n",
              "  </style>\n",
              "\n",
              "      <script>\n",
              "        const buttonEl =\n",
              "          document.querySelector('#df-7df7115c-d53a-45c9-95b8-de01a843d1b3 button.colab-df-convert');\n",
              "        buttonEl.style.display =\n",
              "          google.colab.kernel.accessAllowed ? 'block' : 'none';\n",
              "\n",
              "        async function convertToInteractive(key) {\n",
              "          const element = document.querySelector('#df-7df7115c-d53a-45c9-95b8-de01a843d1b3');\n",
              "          const dataTable =\n",
              "            await google.colab.kernel.invokeFunction('convertToInteractive',\n",
              "                                                     [key], {});\n",
              "          if (!dataTable) return;\n",
              "\n",
              "          const docLinkHtml = 'Like what you see? Visit the ' +\n",
              "            '<a target=\"_blank\" href=https://colab.research.google.com/notebooks/data_table.ipynb>data table notebook</a>'\n",
              "            + ' to learn more about interactive tables.';\n",
              "          element.innerHTML = '';\n",
              "          dataTable['output_type'] = 'display_data';\n",
              "          await google.colab.output.renderOutput(dataTable, element);\n",
              "          const docLink = document.createElement('div');\n",
              "          docLink.innerHTML = docLinkHtml;\n",
              "          element.appendChild(docLink);\n",
              "        }\n",
              "      </script>\n",
              "    </div>\n",
              "  </div>\n",
              "  "
            ]
          },
          "metadata": {},
          "execution_count": 43
        }
      ],
      "source": [
        "# All the patients that are considered outliers (admission amount higher than the maximum)\n",
        "total_admissions[total_admissions['case_id'] > 9.5]"
      ]
    },
    {
      "cell_type": "code",
      "execution_count": 44,
      "id": "ce434300",
      "metadata": {
        "id": "ce434300"
      },
      "outputs": [],
      "source": [
        "higher_admissions_patients = total_admissions[total_admissions['case_id'] > 9.5].shape[0]"
      ]
    },
    {
      "cell_type": "code",
      "execution_count": 45,
      "id": "e7b11dad",
      "metadata": {
        "id": "e7b11dad"
      },
      "outputs": [],
      "source": [
        "unique_patients = len(df_EDA['patientid'].unique())"
      ]
    },
    {
      "cell_type": "code",
      "execution_count": 46,
      "id": "9cc4ba44",
      "metadata": {
        "colab": {
          "base_uri": "https://localhost:8080/"
        },
        "id": "9cc4ba44",
        "outputId": "262de3e0-dc61-49fa-efbe-f235a6dedc05"
      },
      "outputs": [
        {
          "output_type": "stream",
          "name": "stdout",
          "text": [
            "There are 90344 unique patients, and 1769 are considered outliers about the amount of admissions.\n"
          ]
        }
      ],
      "source": [
        "print(f\"There are {unique_patients} unique patients, and {higher_admissions_patients} are considered outliers about the amount of admissions.\")"
      ]
    },
    {
      "cell_type": "markdown",
      "id": "87a590d6",
      "metadata": {
        "id": "87a590d6"
      },
      "source": [
        "### These patients that have multiple admissions have a higher Length of Stay ?"
      ]
    },
    {
      "cell_type": "code",
      "execution_count": 47,
      "id": "61e5cdd0",
      "metadata": {
        "id": "61e5cdd0"
      },
      "outputs": [],
      "source": [
        "# Creating a list of patients that have a total admission considered as an outlier (higher than maximum)\n",
        "higher_admissions_patients_list = list(total_admissions[total_admissions['case_id'] > 9.5]['patientid'])"
      ]
    },
    {
      "cell_type": "code",
      "execution_count": 48,
      "id": "4d6351dd",
      "metadata": {
        "colab": {
          "base_uri": "https://localhost:8080/",
          "height": 713
        },
        "id": "4d6351dd",
        "outputId": "09428791-e6b2-49b5-ec88-684f88120c15"
      },
      "outputs": [
        {
          "output_type": "execute_result",
          "data": {
            "text/plain": [
              "        case_id  Hospital_code Hospital_type_code  City_Code_Hospital  \\\n",
              "0             1              8                  c                   3   \n",
              "1             2              2                  c                   5   \n",
              "2             3             10                  e                   1   \n",
              "3             4             26                  b                   2   \n",
              "4             5             26                  b                   2   \n",
              "...         ...            ...                ...                 ...   \n",
              "308825   308826              6                  a                   6   \n",
              "308826   308827              6                  a                   6   \n",
              "308827   308828             17                  e                   1   \n",
              "308828   308829             10                  e                   1   \n",
              "308829   308830             25                  e                   1   \n",
              "\n",
              "       Hospital_region_code  Available Extra Rooms in Hospital    Department  \\\n",
              "0                         Z                                  3  radiotherapy   \n",
              "1                         Z                                  2  radiotherapy   \n",
              "2                         X                                  2    anesthesia   \n",
              "3                         Y                                  2  radiotherapy   \n",
              "4                         Y                                  2  radiotherapy   \n",
              "...                     ...                                ...           ...   \n",
              "308825                    X                                  3       surgery   \n",
              "308826                    X                                  4       surgery   \n",
              "308827                    X                                  2       surgery   \n",
              "308828                    X                                  4    anesthesia   \n",
              "308829                    X                                  4    anesthesia   \n",
              "\n",
              "       Ward_Type Ward_Facility_Code  Bed Grade  patientid  City_Code_Patient  \\\n",
              "0              R                  F          2      31397                  7   \n",
              "1              S                  F          2      31397                  7   \n",
              "2              S                  E          2      31397                  7   \n",
              "3              R                  D          2      31397                  7   \n",
              "4              S                  D          2      31397                  7   \n",
              "...          ...                ...        ...        ...                ...   \n",
              "308825         R                  F          2      68141                  7   \n",
              "308826         Q                  F          2      68141                  7   \n",
              "308827         R                  E          4      68141                  7   \n",
              "308828         Q                  E          4      68141                  7   \n",
              "308829         Q                  E          4      68141                  7   \n",
              "\n",
              "       Type of Admission Severity of Illness  Visitors with Patient    Age  \\\n",
              "0              Emergency             Extreme                      2  51-60   \n",
              "1                 Trauma             Extreme                      2  51-60   \n",
              "2                 Trauma             Extreme                      2  51-60   \n",
              "3                 Trauma             Extreme                      2  51-60   \n",
              "4                 Trauma             Extreme                      2  51-60   \n",
              "...                  ...                 ...                    ...    ...   \n",
              "308825         Emergency            Moderate                      3  71-80   \n",
              "308826         Emergency            Moderate                      4  71-80   \n",
              "308827         Emergency            Moderate                      6  71-80   \n",
              "308828            Trauma            Moderate                      4  71-80   \n",
              "308829            Trauma            Moderate                      3  71-80   \n",
              "\n",
              "        Admission_Deposit  Stay  \n",
              "0                  4911.0     0  \n",
              "1                  5954.0     1  \n",
              "2                  4745.0     1  \n",
              "3                  7272.0     1  \n",
              "4                  5558.0     1  \n",
              "...                   ...   ...  \n",
              "308825             5699.0     0  \n",
              "308826             7675.0     0  \n",
              "308827             5881.0     0  \n",
              "308828             6239.0     0  \n",
              "308829             7713.0     0  \n",
              "\n",
              "[20694 rows x 18 columns]"
            ],
            "text/html": [
              "\n",
              "  <div id=\"df-9da25f14-8b2d-4ef4-9966-4557868bdd9e\">\n",
              "    <div class=\"colab-df-container\">\n",
              "      <div>\n",
              "<style scoped>\n",
              "    .dataframe tbody tr th:only-of-type {\n",
              "        vertical-align: middle;\n",
              "    }\n",
              "\n",
              "    .dataframe tbody tr th {\n",
              "        vertical-align: top;\n",
              "    }\n",
              "\n",
              "    .dataframe thead th {\n",
              "        text-align: right;\n",
              "    }\n",
              "</style>\n",
              "<table border=\"1\" class=\"dataframe\">\n",
              "  <thead>\n",
              "    <tr style=\"text-align: right;\">\n",
              "      <th></th>\n",
              "      <th>case_id</th>\n",
              "      <th>Hospital_code</th>\n",
              "      <th>Hospital_type_code</th>\n",
              "      <th>City_Code_Hospital</th>\n",
              "      <th>Hospital_region_code</th>\n",
              "      <th>Available Extra Rooms in Hospital</th>\n",
              "      <th>Department</th>\n",
              "      <th>Ward_Type</th>\n",
              "      <th>Ward_Facility_Code</th>\n",
              "      <th>Bed Grade</th>\n",
              "      <th>patientid</th>\n",
              "      <th>City_Code_Patient</th>\n",
              "      <th>Type of Admission</th>\n",
              "      <th>Severity of Illness</th>\n",
              "      <th>Visitors with Patient</th>\n",
              "      <th>Age</th>\n",
              "      <th>Admission_Deposit</th>\n",
              "      <th>Stay</th>\n",
              "    </tr>\n",
              "  </thead>\n",
              "  <tbody>\n",
              "    <tr>\n",
              "      <th>0</th>\n",
              "      <td>1</td>\n",
              "      <td>8</td>\n",
              "      <td>c</td>\n",
              "      <td>3</td>\n",
              "      <td>Z</td>\n",
              "      <td>3</td>\n",
              "      <td>radiotherapy</td>\n",
              "      <td>R</td>\n",
              "      <td>F</td>\n",
              "      <td>2</td>\n",
              "      <td>31397</td>\n",
              "      <td>7</td>\n",
              "      <td>Emergency</td>\n",
              "      <td>Extreme</td>\n",
              "      <td>2</td>\n",
              "      <td>51-60</td>\n",
              "      <td>4911.0</td>\n",
              "      <td>0</td>\n",
              "    </tr>\n",
              "    <tr>\n",
              "      <th>1</th>\n",
              "      <td>2</td>\n",
              "      <td>2</td>\n",
              "      <td>c</td>\n",
              "      <td>5</td>\n",
              "      <td>Z</td>\n",
              "      <td>2</td>\n",
              "      <td>radiotherapy</td>\n",
              "      <td>S</td>\n",
              "      <td>F</td>\n",
              "      <td>2</td>\n",
              "      <td>31397</td>\n",
              "      <td>7</td>\n",
              "      <td>Trauma</td>\n",
              "      <td>Extreme</td>\n",
              "      <td>2</td>\n",
              "      <td>51-60</td>\n",
              "      <td>5954.0</td>\n",
              "      <td>1</td>\n",
              "    </tr>\n",
              "    <tr>\n",
              "      <th>2</th>\n",
              "      <td>3</td>\n",
              "      <td>10</td>\n",
              "      <td>e</td>\n",
              "      <td>1</td>\n",
              "      <td>X</td>\n",
              "      <td>2</td>\n",
              "      <td>anesthesia</td>\n",
              "      <td>S</td>\n",
              "      <td>E</td>\n",
              "      <td>2</td>\n",
              "      <td>31397</td>\n",
              "      <td>7</td>\n",
              "      <td>Trauma</td>\n",
              "      <td>Extreme</td>\n",
              "      <td>2</td>\n",
              "      <td>51-60</td>\n",
              "      <td>4745.0</td>\n",
              "      <td>1</td>\n",
              "    </tr>\n",
              "    <tr>\n",
              "      <th>3</th>\n",
              "      <td>4</td>\n",
              "      <td>26</td>\n",
              "      <td>b</td>\n",
              "      <td>2</td>\n",
              "      <td>Y</td>\n",
              "      <td>2</td>\n",
              "      <td>radiotherapy</td>\n",
              "      <td>R</td>\n",
              "      <td>D</td>\n",
              "      <td>2</td>\n",
              "      <td>31397</td>\n",
              "      <td>7</td>\n",
              "      <td>Trauma</td>\n",
              "      <td>Extreme</td>\n",
              "      <td>2</td>\n",
              "      <td>51-60</td>\n",
              "      <td>7272.0</td>\n",
              "      <td>1</td>\n",
              "    </tr>\n",
              "    <tr>\n",
              "      <th>4</th>\n",
              "      <td>5</td>\n",
              "      <td>26</td>\n",
              "      <td>b</td>\n",
              "      <td>2</td>\n",
              "      <td>Y</td>\n",
              "      <td>2</td>\n",
              "      <td>radiotherapy</td>\n",
              "      <td>S</td>\n",
              "      <td>D</td>\n",
              "      <td>2</td>\n",
              "      <td>31397</td>\n",
              "      <td>7</td>\n",
              "      <td>Trauma</td>\n",
              "      <td>Extreme</td>\n",
              "      <td>2</td>\n",
              "      <td>51-60</td>\n",
              "      <td>5558.0</td>\n",
              "      <td>1</td>\n",
              "    </tr>\n",
              "    <tr>\n",
              "      <th>...</th>\n",
              "      <td>...</td>\n",
              "      <td>...</td>\n",
              "      <td>...</td>\n",
              "      <td>...</td>\n",
              "      <td>...</td>\n",
              "      <td>...</td>\n",
              "      <td>...</td>\n",
              "      <td>...</td>\n",
              "      <td>...</td>\n",
              "      <td>...</td>\n",
              "      <td>...</td>\n",
              "      <td>...</td>\n",
              "      <td>...</td>\n",
              "      <td>...</td>\n",
              "      <td>...</td>\n",
              "      <td>...</td>\n",
              "      <td>...</td>\n",
              "      <td>...</td>\n",
              "    </tr>\n",
              "    <tr>\n",
              "      <th>308825</th>\n",
              "      <td>308826</td>\n",
              "      <td>6</td>\n",
              "      <td>a</td>\n",
              "      <td>6</td>\n",
              "      <td>X</td>\n",
              "      <td>3</td>\n",
              "      <td>surgery</td>\n",
              "      <td>R</td>\n",
              "      <td>F</td>\n",
              "      <td>2</td>\n",
              "      <td>68141</td>\n",
              "      <td>7</td>\n",
              "      <td>Emergency</td>\n",
              "      <td>Moderate</td>\n",
              "      <td>3</td>\n",
              "      <td>71-80</td>\n",
              "      <td>5699.0</td>\n",
              "      <td>0</td>\n",
              "    </tr>\n",
              "    <tr>\n",
              "      <th>308826</th>\n",
              "      <td>308827</td>\n",
              "      <td>6</td>\n",
              "      <td>a</td>\n",
              "      <td>6</td>\n",
              "      <td>X</td>\n",
              "      <td>4</td>\n",
              "      <td>surgery</td>\n",
              "      <td>Q</td>\n",
              "      <td>F</td>\n",
              "      <td>2</td>\n",
              "      <td>68141</td>\n",
              "      <td>7</td>\n",
              "      <td>Emergency</td>\n",
              "      <td>Moderate</td>\n",
              "      <td>4</td>\n",
              "      <td>71-80</td>\n",
              "      <td>7675.0</td>\n",
              "      <td>0</td>\n",
              "    </tr>\n",
              "    <tr>\n",
              "      <th>308827</th>\n",
              "      <td>308828</td>\n",
              "      <td>17</td>\n",
              "      <td>e</td>\n",
              "      <td>1</td>\n",
              "      <td>X</td>\n",
              "      <td>2</td>\n",
              "      <td>surgery</td>\n",
              "      <td>R</td>\n",
              "      <td>E</td>\n",
              "      <td>4</td>\n",
              "      <td>68141</td>\n",
              "      <td>7</td>\n",
              "      <td>Emergency</td>\n",
              "      <td>Moderate</td>\n",
              "      <td>6</td>\n",
              "      <td>71-80</td>\n",
              "      <td>5881.0</td>\n",
              "      <td>0</td>\n",
              "    </tr>\n",
              "    <tr>\n",
              "      <th>308828</th>\n",
              "      <td>308829</td>\n",
              "      <td>10</td>\n",
              "      <td>e</td>\n",
              "      <td>1</td>\n",
              "      <td>X</td>\n",
              "      <td>4</td>\n",
              "      <td>anesthesia</td>\n",
              "      <td>Q</td>\n",
              "      <td>E</td>\n",
              "      <td>4</td>\n",
              "      <td>68141</td>\n",
              "      <td>7</td>\n",
              "      <td>Trauma</td>\n",
              "      <td>Moderate</td>\n",
              "      <td>4</td>\n",
              "      <td>71-80</td>\n",
              "      <td>6239.0</td>\n",
              "      <td>0</td>\n",
              "    </tr>\n",
              "    <tr>\n",
              "      <th>308829</th>\n",
              "      <td>308830</td>\n",
              "      <td>25</td>\n",
              "      <td>e</td>\n",
              "      <td>1</td>\n",
              "      <td>X</td>\n",
              "      <td>4</td>\n",
              "      <td>anesthesia</td>\n",
              "      <td>Q</td>\n",
              "      <td>E</td>\n",
              "      <td>4</td>\n",
              "      <td>68141</td>\n",
              "      <td>7</td>\n",
              "      <td>Trauma</td>\n",
              "      <td>Moderate</td>\n",
              "      <td>3</td>\n",
              "      <td>71-80</td>\n",
              "      <td>7713.0</td>\n",
              "      <td>0</td>\n",
              "    </tr>\n",
              "  </tbody>\n",
              "</table>\n",
              "<p>20694 rows × 18 columns</p>\n",
              "</div>\n",
              "      <button class=\"colab-df-convert\" onclick=\"convertToInteractive('df-9da25f14-8b2d-4ef4-9966-4557868bdd9e')\"\n",
              "              title=\"Convert this dataframe to an interactive table.\"\n",
              "              style=\"display:none;\">\n",
              "        \n",
              "  <svg xmlns=\"http://www.w3.org/2000/svg\" height=\"24px\"viewBox=\"0 0 24 24\"\n",
              "       width=\"24px\">\n",
              "    <path d=\"M0 0h24v24H0V0z\" fill=\"none\"/>\n",
              "    <path d=\"M18.56 5.44l.94 2.06.94-2.06 2.06-.94-2.06-.94-.94-2.06-.94 2.06-2.06.94zm-11 1L8.5 8.5l.94-2.06 2.06-.94-2.06-.94L8.5 2.5l-.94 2.06-2.06.94zm10 10l.94 2.06.94-2.06 2.06-.94-2.06-.94-.94-2.06-.94 2.06-2.06.94z\"/><path d=\"M17.41 7.96l-1.37-1.37c-.4-.4-.92-.59-1.43-.59-.52 0-1.04.2-1.43.59L10.3 9.45l-7.72 7.72c-.78.78-.78 2.05 0 2.83L4 21.41c.39.39.9.59 1.41.59.51 0 1.02-.2 1.41-.59l7.78-7.78 2.81-2.81c.8-.78.8-2.07 0-2.86zM5.41 20L4 18.59l7.72-7.72 1.47 1.35L5.41 20z\"/>\n",
              "  </svg>\n",
              "      </button>\n",
              "      \n",
              "  <style>\n",
              "    .colab-df-container {\n",
              "      display:flex;\n",
              "      flex-wrap:wrap;\n",
              "      gap: 12px;\n",
              "    }\n",
              "\n",
              "    .colab-df-convert {\n",
              "      background-color: #E8F0FE;\n",
              "      border: none;\n",
              "      border-radius: 50%;\n",
              "      cursor: pointer;\n",
              "      display: none;\n",
              "      fill: #1967D2;\n",
              "      height: 32px;\n",
              "      padding: 0 0 0 0;\n",
              "      width: 32px;\n",
              "    }\n",
              "\n",
              "    .colab-df-convert:hover {\n",
              "      background-color: #E2EBFA;\n",
              "      box-shadow: 0px 1px 2px rgba(60, 64, 67, 0.3), 0px 1px 3px 1px rgba(60, 64, 67, 0.15);\n",
              "      fill: #174EA6;\n",
              "    }\n",
              "\n",
              "    [theme=dark] .colab-df-convert {\n",
              "      background-color: #3B4455;\n",
              "      fill: #D2E3FC;\n",
              "    }\n",
              "\n",
              "    [theme=dark] .colab-df-convert:hover {\n",
              "      background-color: #434B5C;\n",
              "      box-shadow: 0px 1px 3px 1px rgba(0, 0, 0, 0.15);\n",
              "      filter: drop-shadow(0px 1px 2px rgba(0, 0, 0, 0.3));\n",
              "      fill: #FFFFFF;\n",
              "    }\n",
              "  </style>\n",
              "\n",
              "      <script>\n",
              "        const buttonEl =\n",
              "          document.querySelector('#df-9da25f14-8b2d-4ef4-9966-4557868bdd9e button.colab-df-convert');\n",
              "        buttonEl.style.display =\n",
              "          google.colab.kernel.accessAllowed ? 'block' : 'none';\n",
              "\n",
              "        async function convertToInteractive(key) {\n",
              "          const element = document.querySelector('#df-9da25f14-8b2d-4ef4-9966-4557868bdd9e');\n",
              "          const dataTable =\n",
              "            await google.colab.kernel.invokeFunction('convertToInteractive',\n",
              "                                                     [key], {});\n",
              "          if (!dataTable) return;\n",
              "\n",
              "          const docLinkHtml = 'Like what you see? Visit the ' +\n",
              "            '<a target=\"_blank\" href=https://colab.research.google.com/notebooks/data_table.ipynb>data table notebook</a>'\n",
              "            + ' to learn more about interactive tables.';\n",
              "          element.innerHTML = '';\n",
              "          dataTable['output_type'] = 'display_data';\n",
              "          await google.colab.output.renderOutput(dataTable, element);\n",
              "          const docLink = document.createElement('div');\n",
              "          docLink.innerHTML = docLinkHtml;\n",
              "          element.appendChild(docLink);\n",
              "        }\n",
              "      </script>\n",
              "    </div>\n",
              "  </div>\n",
              "  "
            ]
          },
          "metadata": {},
          "execution_count": 48
        }
      ],
      "source": [
        "# Locating all the admissions from the list create before\n",
        "df_higher_admissions = df_EDA.loc[df_EDA['patientid'].isin(higher_admissions_patients_list)]\n",
        "df_higher_admissions"
      ]
    },
    {
      "cell_type": "code",
      "execution_count": 49,
      "id": "87f81312",
      "metadata": {
        "colab": {
          "base_uri": "https://localhost:8080/"
        },
        "id": "87f81312",
        "outputId": "e7323307-7b5c-4916-e187-6a00830db2a1"
      },
      "outputs": [
        {
          "output_type": "execute_result",
          "data": {
            "text/plain": [
              "0    61.486421\n",
              "1    38.513579\n",
              "Name: Stay, dtype: float64"
            ]
          },
          "metadata": {},
          "execution_count": 49
        }
      ],
      "source": [
        "# Checking the proportion of Lenght of Stay into the OUTLIERS\n",
        "df_higher_admissions['Stay'].value_counts() / df_higher_admissions.shape[0] * 100"
      ]
    },
    {
      "cell_type": "markdown",
      "id": "ec0ce23d",
      "metadata": {
        "id": "ec0ce23d"
      },
      "source": [
        "**Remember that lengh of stay ≤ 30 days is 0 and > 30 days is 1**"
      ]
    },
    {
      "cell_type": "code",
      "execution_count": 50,
      "id": "f85b15dd",
      "metadata": {
        "colab": {
          "base_uri": "https://localhost:8080/"
        },
        "id": "f85b15dd",
        "outputId": "cd47f99a-c888-4632-ba74-69eb0fcdc311"
      },
      "outputs": [
        {
          "output_type": "execute_result",
          "data": {
            "text/plain": [
              "0    59.485393\n",
              "1    40.514607\n",
              "Name: Stay, dtype: float64"
            ]
          },
          "metadata": {},
          "execution_count": 50
        }
      ],
      "source": [
        "# Checking the proportion of Lenght of Stay for the ENTIRE dataset\n",
        "df_EDA['Stay'].value_counts() / df_EDA.shape[0] * 100"
      ]
    },
    {
      "cell_type": "markdown",
      "id": "b6026d5c",
      "metadata": {
        "id": "b6026d5c"
      },
      "source": [
        "**There is a small difference, with the outliers patients having a proportion of length of stay > 30 days smaller than the complete dataset**"
      ]
    },
    {
      "cell_type": "markdown",
      "id": "da9edddb",
      "metadata": {
        "id": "da9edddb"
      },
      "source": [
        "### Is the Length of Stay (LoS) proportional through the hospitals ?"
      ]
    },
    {
      "cell_type": "code",
      "execution_count": 57,
      "id": "c9768ebe",
      "metadata": {
        "colab": {
          "base_uri": "https://localhost:8080/"
        },
        "id": "c9768ebe",
        "outputId": "e4103453-d434-4839-f3fe-be8765181bbe"
      },
      "outputs": [
        {
          "output_type": "execute_result",
          "data": {
            "text/plain": [
              "0.6810849615077601"
            ]
          },
          "metadata": {},
          "execution_count": 57
        }
      ],
      "source": [
        "# The proportion of Length of Stay of the COMPLETE dataset\n",
        "df_EDA[df_EDA['Stay'] == 1]['Stay'].shape[0] / df_EDA[df_EDA['Stay'] == 0]['Stay'].shape[0]"
      ]
    },
    {
      "cell_type": "markdown",
      "id": "0589289a",
      "metadata": {
        "id": "0589289a"
      },
      "source": [
        "**The amount of LoS > 30 days are 0.68 times smaller than ≤ 30 days**"
      ]
    },
    {
      "cell_type": "code",
      "execution_count": 53,
      "id": "66f13c10",
      "metadata": {
        "id": "66f13c10"
      },
      "outputs": [],
      "source": [
        "# Creating a list of all unique hospital codes\n",
        "unique_codes = list(df_EDA['Hospital_code'].unique())"
      ]
    },
    {
      "cell_type": "code",
      "execution_count": 54,
      "id": "db7de3c5",
      "metadata": {
        "id": "db7de3c5"
      },
      "outputs": [],
      "source": [
        "# Sorting the list\n",
        "unique_codes.sort()"
      ]
    },
    {
      "cell_type": "code",
      "execution_count": 56,
      "id": "a0525608",
      "metadata": {
        "colab": {
          "base_uri": "https://localhost:8080/"
        },
        "id": "a0525608",
        "outputId": "0c09158d-adf9-45b1-939c-ef3121a7cda3"
      },
      "outputs": [
        {
          "output_type": "stream",
          "name": "stdout",
          "text": [
            "For Hospital code 1, the proportion of High LoS/Small LoS is: 0.8968921389396709\n",
            "For Hospital code 2, the proportion of High LoS/Small LoS is: 1.2996357012750455\n",
            "For Hospital code 3, the proportion of High LoS/Small LoS is: 0.49415515409139216\n",
            "For Hospital code 4, the proportion of High LoS/Small LoS is: 0.2732984293193717\n",
            "For Hospital code 5, the proportion of High LoS/Small LoS is: 0.5848998459167951\n",
            "For Hospital code 6, the proportion of High LoS/Small LoS is: 0.5954088952654233\n",
            "For Hospital code 7, the proportion of High LoS/Small LoS is: 0.30421377183967113\n",
            "For Hospital code 8, the proportion of High LoS/Small LoS is: 0.5300847457627119\n",
            "For Hospital code 9, the proportion of High LoS/Small LoS is: 0.7474282204821127\n",
            "For Hospital code 10, the proportion of High LoS/Small LoS is: 0.5351879450240106\n",
            "For Hospital code 11, the proportion of High LoS/Small LoS is: 0.589131444496052\n",
            "For Hospital code 12, the proportion of High LoS/Small LoS is: 0.5829902030384779\n",
            "For Hospital code 13, the proportion of High LoS/Small LoS is: 0.4557211132977228\n",
            "For Hospital code 14, the proportion of High LoS/Small LoS is: 0.5611849390919158\n",
            "For Hospital code 15, the proportion of High LoS/Small LoS is: 0.588245522517823\n",
            "For Hospital code 16, the proportion of High LoS/Small LoS is: 1.1548961424332345\n",
            "For Hospital code 17, the proportion of High LoS/Small LoS is: 0.4628369180506398\n",
            "For Hospital code 18, the proportion of High LoS/Small LoS is: 0.8895318253550762\n",
            "For Hospital code 19, the proportion of High LoS/Small LoS is: 0.5277071682765633\n",
            "For Hospital code 20, the proportion of High LoS/Small LoS is: 1.087087087087087\n",
            "For Hospital code 21, the proportion of High LoS/Small LoS is: 0.9670007333170374\n",
            "For Hospital code 22, the proportion of High LoS/Small LoS is: 1.0985636453689946\n",
            "For Hospital code 23, the proportion of High LoS/Small LoS is: 0.6910821837963862\n",
            "For Hospital code 24, the proportion of High LoS/Small LoS is: 0.43366880146386094\n",
            "For Hospital code 25, the proportion of High LoS/Small LoS is: 0.929171668667467\n",
            "For Hospital code 26, the proportion of High LoS/Small LoS is: 0.9113931453971225\n",
            "For Hospital code 27, the proportion of High LoS/Small LoS is: 0.4277474195506982\n",
            "For Hospital code 28, the proportion of High LoS/Small LoS is: 0.7568940493468795\n",
            "For Hospital code 29, the proportion of High LoS/Small LoS is: 0.9828387558097962\n",
            "For Hospital code 30, the proportion of High LoS/Small LoS is: 0.7392996108949417\n",
            "For Hospital code 31, the proportion of High LoS/Small LoS is: 0.5734293717486995\n",
            "For Hospital code 32, the proportion of High LoS/Small LoS is: 1.0356592135697764\n"
          ]
        }
      ],
      "source": [
        "# Printing the proportion of LoS for each hospital code\n",
        "for i in unique_codes:\n",
        "    x = df_EDA[(df_EDA['Hospital_code'] == i) & (df_EDA['Stay'] == 1)].shape[0]\n",
        "    y = df_EDA[(df_EDA['Hospital_code'] == i) & (df_EDA['Stay'] == 0)].shape[0]\n",
        "    z = x/y\n",
        "    print(f\"For Hospital code {i}, the proportion of High LoS/Small LoS is: {z}\")\n",
        "    "
      ]
    },
    {
      "cell_type": "markdown",
      "source": [
        "**The proportion o LoS > 30 days in the entire Dataset is 0.68 times smaller than ≤ 30 days. So if a unique hospital has this proportion higher than 0.68 it means that there is longer admissions**"
      ],
      "metadata": {
        "id": "zgjeojQUmZp5"
      },
      "id": "zgjeojQUmZp5"
    },
    {
      "cell_type": "markdown",
      "id": "6c8d3bfe",
      "metadata": {
        "id": "6c8d3bfe"
      },
      "source": [
        "**Now we can see the proportion for each hospital code. Is interesting to look deeper in the Hospitals 2, 16, 20, 22 and 32. All of then have a LoS > 30 days more than 1 time higher than LoS ≤ 30 days**"
      ]
    },
    {
      "cell_type": "markdown",
      "id": "cfb50134",
      "metadata": {
        "id": "cfb50134"
      },
      "source": [
        "### Is the Length of Stay (LoS) proportional through the hospitals type ?"
      ]
    },
    {
      "cell_type": "code",
      "execution_count": 61,
      "id": "f4d91ee0",
      "metadata": {
        "colab": {
          "base_uri": "https://localhost:8080/"
        },
        "id": "f4d91ee0",
        "outputId": "25dec6b9-925d-4251-e8e9-2e43392dcbd3"
      },
      "outputs": [
        {
          "output_type": "execute_result",
          "data": {
            "text/plain": [
              "0.6810849615077601"
            ]
          },
          "metadata": {},
          "execution_count": 61
        }
      ],
      "source": [
        "# The proportion of Length of Stay of the COMPLETE dataset\n",
        "df_EDA[df_EDA['Stay'] == 1]['Stay'].shape[0] / df_EDA[df_EDA['Stay'] == 0]['Stay'].shape[0]"
      ]
    },
    {
      "cell_type": "markdown",
      "id": "f749d2b6",
      "metadata": {
        "id": "f749d2b6"
      },
      "source": [
        "**The amount of LoS > 30 days are 0.68 times smaller than ≤ 30 days**"
      ]
    },
    {
      "cell_type": "code",
      "execution_count": 62,
      "id": "4c6355e7",
      "metadata": {
        "id": "4c6355e7"
      },
      "outputs": [],
      "source": [
        "# Creating a list of all unique hospital types\n",
        "unique_types = list(df_EDA['Hospital_type_code'].unique())"
      ]
    },
    {
      "cell_type": "code",
      "execution_count": 63,
      "id": "cebe9aca",
      "metadata": {
        "id": "cebe9aca"
      },
      "outputs": [],
      "source": [
        "# Sorting the list\n",
        "unique_types.sort()"
      ]
    },
    {
      "cell_type": "code",
      "execution_count": 64,
      "id": "af7a3f17",
      "metadata": {
        "colab": {
          "base_uri": "https://localhost:8080/"
        },
        "id": "af7a3f17",
        "outputId": "ce6af238-8577-434f-dd24-edb38d64d777"
      },
      "outputs": [
        {
          "output_type": "stream",
          "name": "stdout",
          "text": [
            "For Hospital type a, the proportion of High LoS/Small LoS is: 0.5796363066311334\n",
            "For Hospital type b, the proportion of High LoS/Small LoS is: 0.7845448592010478\n",
            "For Hospital type c, the proportion of High LoS/Small LoS is: 0.7366929616297772\n",
            "For Hospital type d, the proportion of High LoS/Small LoS is: 0.8083236164678447\n",
            "For Hospital type e, the proportion of High LoS/Small LoS is: 0.6509857239972807\n",
            "For Hospital type f, the proportion of High LoS/Small LoS is: 1.0356592135697764\n",
            "For Hospital type g, the proportion of High LoS/Small LoS is: 1.0985636453689946\n"
          ]
        }
      ],
      "source": [
        "# Printing the proportion of LoS for each hospital code\n",
        "for i in unique_types:\n",
        "    x = df_EDA[(df_EDA['Hospital_type_code'] == i) & (df_EDA['Stay'] == 1)].shape[0]\n",
        "    y = df_EDA[(df_EDA['Hospital_type_code'] == i) & (df_EDA['Stay'] == 0)].shape[0]\n",
        "    z = x/y\n",
        "    print(f\"For Hospital type {i}, the proportion of High LoS/Small LoS is: {z}\")\n",
        "    "
      ]
    },
    {
      "cell_type": "markdown",
      "id": "a43c9bbe",
      "metadata": {
        "id": "a43c9bbe"
      },
      "source": [
        "**The proprotions are very close to the entire dataset, except for the hospitals types f and g, that have a higher proportion**"
      ]
    },
    {
      "cell_type": "markdown",
      "id": "4d5ac629",
      "metadata": {
        "id": "4d5ac629"
      },
      "source": [
        "### Is the Lengh of Stay (LoS) proportional through different Cities ?"
      ]
    },
    {
      "cell_type": "code",
      "execution_count": 65,
      "id": "ce7141f8",
      "metadata": {
        "colab": {
          "base_uri": "https://localhost:8080/"
        },
        "id": "ce7141f8",
        "outputId": "b04b62c9-7dc0-4ea9-f523-e296b276dd1d"
      },
      "outputs": [
        {
          "output_type": "execute_result",
          "data": {
            "text/plain": [
              "0.6810849615077601"
            ]
          },
          "metadata": {},
          "execution_count": 65
        }
      ],
      "source": [
        "# The proportion of Lenght of Stay of the COMPLETE dataset\n",
        "df_EDA[df_EDA['Stay'] == 1]['Stay'].shape[0] / df_EDA[df_EDA['Stay'] == 0]['Stay'].shape[0]"
      ]
    },
    {
      "cell_type": "markdown",
      "id": "09571b25",
      "metadata": {
        "id": "09571b25"
      },
      "source": [
        "**The amount of LoS > 30 days are 0.68 times smaller than ≤ 30 days**"
      ]
    },
    {
      "cell_type": "code",
      "execution_count": 66,
      "id": "02296190",
      "metadata": {
        "id": "02296190"
      },
      "outputs": [],
      "source": [
        "# Creating a list of all unique cities\n",
        "unique_cities = list(df_EDA['City_Code_Hospital'].unique())"
      ]
    },
    {
      "cell_type": "code",
      "execution_count": 67,
      "id": "0b7a1f8a",
      "metadata": {
        "id": "0b7a1f8a"
      },
      "outputs": [],
      "source": [
        "# Sorting the list\n",
        "unique_cities.sort()"
      ]
    },
    {
      "cell_type": "code",
      "execution_count": 68,
      "id": "8374cd47",
      "metadata": {
        "colab": {
          "base_uri": "https://localhost:8080/"
        },
        "id": "8374cd47",
        "outputId": "fd1ba1b7-f070-4cd2-9551-5ace90681bc5"
      },
      "outputs": [
        {
          "output_type": "stream",
          "name": "stdout",
          "text": [
            "For City 1, the proportion of High LoS/Small LoS is: 0.5816499299392807\n",
            "For City 2, the proportion of High LoS/Small LoS is: 0.7938939324897473\n",
            "For City 3, the proportion of High LoS/Small LoS is: 0.7156382451698134\n",
            "For City 4, the proportion of High LoS/Small LoS is: 0.8049720818931135\n",
            "For City 5, the proportion of High LoS/Small LoS is: 0.7063329078092913\n",
            "For City 6, the proportion of High LoS/Small LoS is: 0.6481938042662665\n",
            "For City 7, the proportion of High LoS/Small LoS is: 0.48594139782673035\n",
            "For City 9, the proportion of High LoS/Small LoS is: 0.8208421052631579\n",
            "For City 10, the proportion of High LoS/Small LoS is: 0.8968921389396709\n",
            "For City 11, the proportion of High LoS/Small LoS is: 0.7568940493468795\n",
            "For City 13, the proportion of High LoS/Small LoS is: 0.8895318253550762\n"
          ]
        }
      ],
      "source": [
        "# Printing the proportion of LoS for each City\n",
        "for i in unique_cities:\n",
        "    x = df_EDA[(df_EDA['City_Code_Hospital'] == i) & (df_EDA['Stay'] == 1)].shape[0]\n",
        "    y = df_EDA[(df_EDA['City_Code_Hospital'] == i) & (df_EDA['Stay'] == 0)].shape[0]\n",
        "    z = x/y\n",
        "    print(f\"For City {i}, the proportion of High LoS/Small LoS is: {z}\")\n",
        "    "
      ]
    },
    {
      "cell_type": "markdown",
      "id": "7c996111",
      "metadata": {
        "id": "7c996111"
      },
      "source": [
        "**The proportions are very close to the entire dataset**\n",
        "\n"
      ]
    },
    {
      "cell_type": "markdown",
      "id": "6de15296",
      "metadata": {
        "id": "6de15296"
      },
      "source": [
        "### Is the Lengh of Stay (LoS) proportional through the hospitals regions ?"
      ]
    },
    {
      "cell_type": "code",
      "execution_count": 69,
      "id": "0526dd92",
      "metadata": {
        "colab": {
          "base_uri": "https://localhost:8080/"
        },
        "id": "0526dd92",
        "outputId": "1e76f693-103e-4e8b-b564-56c497f22591"
      },
      "outputs": [
        {
          "output_type": "execute_result",
          "data": {
            "text/plain": [
              "0.6810849615077601"
            ]
          },
          "metadata": {},
          "execution_count": 69
        }
      ],
      "source": [
        "# The proportion of Lenght of Stay of the COMPLETE dataset\n",
        "df_EDA[df_EDA['Stay'] == 1]['Stay'].shape[0] / df_EDA[df_EDA['Stay'] == 0]['Stay'].shape[0]"
      ]
    },
    {
      "cell_type": "markdown",
      "id": "5ff5148f",
      "metadata": {
        "id": "5ff5148f"
      },
      "source": [
        "**The amount of LoS > 30 days are 0.68 times smaller than ≤ 30 days**"
      ]
    },
    {
      "cell_type": "code",
      "execution_count": 70,
      "id": "290db242",
      "metadata": {
        "id": "290db242"
      },
      "outputs": [],
      "source": [
        "# Creating a list of all unique regions\n",
        "unique_regions = list(df_EDA['Hospital_region_code'].unique())"
      ]
    },
    {
      "cell_type": "code",
      "execution_count": 71,
      "id": "83cbcd32",
      "metadata": {
        "id": "83cbcd32"
      },
      "outputs": [],
      "source": [
        "# Sorting the list\n",
        "unique_regions.sort()"
      ]
    },
    {
      "cell_type": "code",
      "execution_count": 73,
      "id": "d61e426c",
      "metadata": {
        "colab": {
          "base_uri": "https://localhost:8080/"
        },
        "id": "d61e426c",
        "outputId": "ca5bd5dc-c097-4deb-b55b-6f9ec76c9fc5"
      },
      "outputs": [
        {
          "output_type": "stream",
          "name": "stdout",
          "text": [
            "For Region X, the proportion of High LoS/Small LoS is: 0.6475425318910478\n",
            "For Region Y, the proportion of High LoS/Small LoS is: 0.7033321138096981\n",
            "For Region Z, the proportion of High LoS/Small LoS is: 0.7110048640282998\n"
          ]
        }
      ],
      "source": [
        "# Printing the proportion of LoS for each Region\n",
        "for i in unique_regions:\n",
        "    x = df_EDA[(df_EDA['Hospital_region_code'] == i) & (df_EDA['Stay'] == 1)].shape[0]\n",
        "    y = df_EDA[(df_EDA['Hospital_region_code'] == i) & (df_EDA['Stay'] == 0)].shape[0]\n",
        "    z = x/y\n",
        "    print(f\"For Region {i}, the proportion of High LoS/Small LoS is: {z}\")\n",
        "    "
      ]
    },
    {
      "cell_type": "markdown",
      "id": "3357d6f9",
      "metadata": {
        "id": "3357d6f9"
      },
      "source": [
        "**The proportions are very close to the entire dataset**\n",
        "\n"
      ]
    },
    {
      "cell_type": "markdown",
      "id": "debdeb33",
      "metadata": {
        "id": "debdeb33"
      },
      "source": [
        "### Is the Lengh of Stay (LoS) proportional through the Departments ?"
      ]
    },
    {
      "cell_type": "code",
      "execution_count": 74,
      "id": "abf03f03",
      "metadata": {
        "colab": {
          "base_uri": "https://localhost:8080/"
        },
        "id": "abf03f03",
        "outputId": "a6fa004f-148f-4e6d-d378-6d806165ddb9"
      },
      "outputs": [
        {
          "output_type": "execute_result",
          "data": {
            "text/plain": [
              "0.6810849615077601"
            ]
          },
          "metadata": {},
          "execution_count": 74
        }
      ],
      "source": [
        "# The proportion of Lenght of Stay of the COMPLETE dataset\n",
        "df_EDA[df_EDA['Stay'] == 1]['Stay'].shape[0] / df_EDA[df_EDA['Stay'] == 0]['Stay'].shape[0]"
      ]
    },
    {
      "cell_type": "markdown",
      "id": "86390434",
      "metadata": {
        "id": "86390434"
      },
      "source": [
        "**The amount of LoS > 30 days are 0.68 times smaller than ≤ 30 days**"
      ]
    },
    {
      "cell_type": "code",
      "execution_count": 75,
      "id": "a9cadd64",
      "metadata": {
        "id": "a9cadd64"
      },
      "outputs": [],
      "source": [
        "# Creating a list of all unique departments\n",
        "unique_departments = list(df_EDA['Department'].unique())"
      ]
    },
    {
      "cell_type": "code",
      "execution_count": 76,
      "id": "8bd4cfb4",
      "metadata": {
        "id": "8bd4cfb4"
      },
      "outputs": [],
      "source": [
        "# Sorting the list\n",
        "unique_departments.sort()"
      ]
    },
    {
      "cell_type": "code",
      "execution_count": 77,
      "id": "a4677f0a",
      "metadata": {
        "scrolled": false,
        "colab": {
          "base_uri": "https://localhost:8080/"
        },
        "id": "a4677f0a",
        "outputId": "896b991e-e71e-4c73-d0f6-8160983e157f"
      },
      "outputs": [
        {
          "output_type": "stream",
          "name": "stdout",
          "text": [
            "For the Department of TB & Chest disease, the proportion of High LoS/Small LoS is: 0.657323055360897\n",
            "For the Department of anesthesia, the proportion of High LoS/Small LoS is: 0.5365622532245328\n",
            "For the Department of gynecology, the proportion of High LoS/Small LoS is: 0.6960904029637601\n",
            "For the Department of radiotherapy, the proportion of High LoS/Small LoS is: 0.7123654278936804\n",
            "For the Department of surgery, the proportion of High LoS/Small LoS is: 1.019434628975265\n"
          ]
        }
      ],
      "source": [
        "# Printing the proportion of LoS for each Region\n",
        "for i in unique_departments:\n",
        "    x = df_EDA[(df_EDA['Department'] == i) & (df_EDA['Stay'] == 1)].shape[0]\n",
        "    y = df_EDA[(df_EDA['Department'] == i) & (df_EDA['Stay'] == 0)].shape[0]\n",
        "    z = x/y\n",
        "    print(f\"For the Department of {i}, the proportion of High LoS/Small LoS is: {z}\")\n",
        "    "
      ]
    },
    {
      "cell_type": "markdown",
      "id": "4af358c5",
      "metadata": {
        "id": "4af358c5"
      },
      "source": [
        "**The proprotions are very close to the entire dataset, except for the department of surgery, that have a higher proportion**"
      ]
    },
    {
      "cell_type": "markdown",
      "id": "3df8362a",
      "metadata": {
        "id": "3df8362a"
      },
      "source": [
        "### Is the Lengh of Stay (LoS) proportional through the Cities where the patients are from ?"
      ]
    },
    {
      "cell_type": "code",
      "execution_count": 78,
      "id": "d09d5035",
      "metadata": {
        "colab": {
          "base_uri": "https://localhost:8080/"
        },
        "id": "d09d5035",
        "outputId": "530c896b-d08d-46e9-ca5e-e5d02639fa73"
      },
      "outputs": [
        {
          "output_type": "execute_result",
          "data": {
            "text/plain": [
              "0.6810849615077601"
            ]
          },
          "metadata": {},
          "execution_count": 78
        }
      ],
      "source": [
        "# The proportion of Lenght of Stay of the COMPLETE dataset\n",
        "df_EDA[df_EDA['Stay'] == 1]['Stay'].shape[0] / df_EDA[df_EDA['Stay'] == 0]['Stay'].shape[0]"
      ]
    },
    {
      "cell_type": "markdown",
      "id": "64e9da2d",
      "metadata": {
        "id": "64e9da2d"
      },
      "source": [
        "**The amount of LoS > 30 days are 0.68 times smaller than ≤ 30 days**"
      ]
    },
    {
      "cell_type": "code",
      "execution_count": 79,
      "id": "d27e72a3",
      "metadata": {
        "id": "d27e72a3"
      },
      "outputs": [],
      "source": [
        "# Creating a list of all unique departments\n",
        "unique_cities_patients = list(df_EDA['City_Code_Patient'].unique())"
      ]
    },
    {
      "cell_type": "code",
      "execution_count": 80,
      "id": "c37adfee",
      "metadata": {
        "id": "c37adfee"
      },
      "outputs": [],
      "source": [
        "# Sorting the list\n",
        "unique_cities_patients.sort()"
      ]
    },
    {
      "cell_type": "code",
      "execution_count": 81,
      "id": "c88d4d71",
      "metadata": {
        "colab": {
          "base_uri": "https://localhost:8080/"
        },
        "id": "c88d4d71",
        "outputId": "83888090-0255-45dd-f90d-7d20c5937715"
      },
      "outputs": [
        {
          "output_type": "stream",
          "name": "stdout",
          "text": [
            "For the City 1, the proportion of High LoS/Small LoS is: 0.6359630066414251\n",
            "For the City 2, the proportion of High LoS/Small LoS is: 0.5849079704525977\n",
            "For the City 3, the proportion of High LoS/Small LoS is: 1.0816777041942605\n",
            "For the City 4, the proportion of High LoS/Small LoS is: 0.6390280294148993\n",
            "For the City 5, the proportion of High LoS/Small LoS is: 0.7979047277936963\n",
            "For the City 6, the proportion of High LoS/Small LoS is: 0.5844327176781002\n",
            "For the City 7, the proportion of High LoS/Small LoS is: 0.7252954397157979\n",
            "For the City 8, the proportion of High LoS/Small LoS is: 0.7259059206771261\n",
            "For the City 9, the proportion of High LoS/Small LoS is: 0.6945402298850575\n",
            "For the City 10, the proportion of High LoS/Small LoS is: 0.5071929177425304\n",
            "For the City 11, the proportion of High LoS/Small LoS is: 0.4853273137697517\n",
            "For the City 12, the proportion of High LoS/Small LoS is: 0.6145267372033171\n",
            "For the City 13, the proportion of High LoS/Small LoS is: 0.4679313459801265\n",
            "For the City 14, the proportion of High LoS/Small LoS is: 0.829375\n",
            "For the City 15, the proportion of High LoS/Small LoS is: 0.7889577915583117\n",
            "For the City 16, the proportion of High LoS/Small LoS is: 0.5435229609321454\n",
            "For the City 18, the proportion of High LoS/Small LoS is: 0.5513812154696133\n",
            "For the City 19, the proportion of High LoS/Small LoS is: 0.4748923959827834\n",
            "For the City 20, the proportion of High LoS/Small LoS is: 0.5993189557321226\n",
            "For the City 21, the proportion of High LoS/Small LoS is: 0.36923076923076925\n",
            "For the City 22, the proportion of High LoS/Small LoS is: 0.8161434977578476\n",
            "For the City 23, the proportion of High LoS/Small LoS is: 0.5579435313948589\n",
            "For the City 24, the proportion of High LoS/Small LoS is: 0.5319148936170213\n",
            "For the City 25, the proportion of High LoS/Small LoS is: 0.6319018404907976\n",
            "For the City 26, the proportion of High LoS/Small LoS is: 0.6526655896607432\n",
            "For the City 27, the proportion of High LoS/Small LoS is: 0.5297619047619048\n",
            "For the City 28, the proportion of High LoS/Small LoS is: 0.5884146341463414\n",
            "For the City 29, the proportion of High LoS/Small LoS is: 0.5806451612903226\n",
            "For the City 30, the proportion of High LoS/Small LoS is: 0.6419753086419753\n",
            "For the City 31, the proportion of High LoS/Small LoS is: 0.6388888888888888\n",
            "For the City 32, the proportion of High LoS/Small LoS is: 0.40540540540540543\n",
            "For the City 33, the proportion of High LoS/Small LoS is: 0.39285714285714285\n",
            "For the City 34, the proportion of High LoS/Small LoS is: 0.6428571428571429\n",
            "For the City 35, the proportion of High LoS/Small LoS is: 0.6\n",
            "For the City 36, the proportion of High LoS/Small LoS is: 0.7142857142857143\n",
            "For the City 37, the proportion of High LoS/Small LoS is: 0.5833333333333334\n",
            "For the City 38, the proportion of High LoS/Small LoS is: 0.5\n"
          ]
        }
      ],
      "source": [
        "# Printing the proportion of LoS for each patient City\n",
        "for i in unique_cities_patients:\n",
        "    x = df_EDA[(df_EDA['City_Code_Patient'] == i) & (df_EDA['Stay'] == 1)].shape[0]\n",
        "    y = df_EDA[(df_EDA['City_Code_Patient'] == i) & (df_EDA['Stay'] == 0)].shape[0]\n",
        "    z = x/y\n",
        "    print(f\"For the City {i}, the proportion of High LoS/Small LoS is: {z}\")\n",
        "    "
      ]
    },
    {
      "cell_type": "markdown",
      "source": [
        "**The City 3 is the only one that have a proportion of LoS > 30 days higher than 1 time**"
      ],
      "metadata": {
        "id": "ZRf0i-mk4f9c"
      },
      "id": "ZRf0i-mk4f9c"
    },
    {
      "cell_type": "markdown",
      "id": "cf5217a1",
      "metadata": {
        "id": "cf5217a1"
      },
      "source": [
        "### Is the Lengh of Stay (LoS) proportional through type of Admission?"
      ]
    },
    {
      "cell_type": "code",
      "execution_count": 82,
      "id": "f6e918c1",
      "metadata": {
        "colab": {
          "base_uri": "https://localhost:8080/"
        },
        "id": "f6e918c1",
        "outputId": "2e8acbf7-a75e-43a9-9177-5af76016d629"
      },
      "outputs": [
        {
          "output_type": "execute_result",
          "data": {
            "text/plain": [
              "0.6810849615077601"
            ]
          },
          "metadata": {},
          "execution_count": 82
        }
      ],
      "source": [
        "# The proportion of Lenght of Stay of the COMPLETE dataset\n",
        "df_EDA[df_EDA['Stay'] == 1]['Stay'].shape[0] / df_EDA[df_EDA['Stay'] == 0]['Stay'].shape[0]"
      ]
    },
    {
      "cell_type": "markdown",
      "id": "cbc20f90",
      "metadata": {
        "id": "cbc20f90"
      },
      "source": [
        "**The amount of LoS > 30 days are 0.68 times smaller than ≤ 30 days**"
      ]
    },
    {
      "cell_type": "code",
      "execution_count": 83,
      "id": "e7a42cab",
      "metadata": {
        "id": "e7a42cab"
      },
      "outputs": [],
      "source": [
        "# Creating a list of all unique type of admission\n",
        "unique_type_admission = list(df_EDA['Type of Admission'].unique())"
      ]
    },
    {
      "cell_type": "code",
      "execution_count": 84,
      "id": "f0d0a3c0",
      "metadata": {
        "id": "f0d0a3c0"
      },
      "outputs": [],
      "source": [
        "# Sorting the list\n",
        "unique_type_admission.sort()"
      ]
    },
    {
      "cell_type": "code",
      "execution_count": 86,
      "id": "837abdb7",
      "metadata": {
        "colab": {
          "base_uri": "https://localhost:8080/"
        },
        "id": "837abdb7",
        "outputId": "ec198f81-2a02-4090-bf55-552c06b2d906"
      },
      "outputs": [
        {
          "output_type": "stream",
          "name": "stdout",
          "text": [
            "For Emergency admissions, the proportion of High LoS/Small LoS is: 0.6051893213323333\n",
            "For Trauma admissions, the proportion of High LoS/Small LoS is: 0.7832160362691226\n",
            "For Urgent admissions, the proportion of High LoS/Small LoS is: 0.5777755853722705\n"
          ]
        }
      ],
      "source": [
        "# Printing the proportion of LoS for each type od admission\n",
        "for i in unique_type_admission:\n",
        "    x = df_EDA[(df_EDA['Type of Admission'] == i) & (df_EDA['Stay'] == 1)].shape[0]\n",
        "    y = df_EDA[(df_EDA['Type of Admission'] == i) & (df_EDA['Stay'] == 0)].shape[0]\n",
        "    z = x/y\n",
        "    print(f\"For {i} admissions, the proportion of High LoS/Small LoS is: {z}\")\n",
        "    "
      ]
    },
    {
      "cell_type": "markdown",
      "id": "facee2a3",
      "metadata": {
        "id": "facee2a3"
      },
      "source": [
        "**Very close to the entire dataset proportion.**"
      ]
    },
    {
      "cell_type": "markdown",
      "id": "45eafb3b",
      "metadata": {
        "id": "45eafb3b"
      },
      "source": [
        "### Do older patients have a higher Lenght of Stay ?"
      ]
    },
    {
      "cell_type": "code",
      "execution_count": 87,
      "id": "e1c200bd",
      "metadata": {
        "colab": {
          "base_uri": "https://localhost:8080/"
        },
        "id": "e1c200bd",
        "outputId": "5c54815f-75c3-4f64-8c26-c517623210f2"
      },
      "outputs": [
        {
          "output_type": "execute_result",
          "data": {
            "text/plain": [
              "0.6810849615077601"
            ]
          },
          "metadata": {},
          "execution_count": 87
        }
      ],
      "source": [
        "# The proportion of Lenght of Stay of the COMPLETE dataset\n",
        "df_EDA[df_EDA['Stay'] == 1]['Stay'].shape[0] / df_EDA[df_EDA['Stay'] == 0]['Stay'].shape[0]"
      ]
    },
    {
      "cell_type": "markdown",
      "id": "e62ff0e3",
      "metadata": {
        "id": "e62ff0e3"
      },
      "source": [
        "**The amount of LoS > 30 days are 0.68 times smaller than ≤ 30 days**"
      ]
    },
    {
      "cell_type": "code",
      "execution_count": 88,
      "id": "72c7a5ac",
      "metadata": {
        "id": "72c7a5ac"
      },
      "outputs": [],
      "source": [
        "# Creating a list of all unique age range\n",
        "unique_ages = list(df_EDA['Age'].unique())"
      ]
    },
    {
      "cell_type": "code",
      "execution_count": 89,
      "id": "dfcce894",
      "metadata": {
        "id": "dfcce894"
      },
      "outputs": [],
      "source": [
        "# Sorting the list\n",
        "unique_ages.sort()"
      ]
    },
    {
      "cell_type": "code",
      "execution_count": 90,
      "id": "8e74f42b",
      "metadata": {
        "colab": {
          "base_uri": "https://localhost:8080/"
        },
        "id": "8e74f42b",
        "outputId": "3633714a-4416-4538-b095-d10e77eff8e3"
      },
      "outputs": [
        {
          "output_type": "stream",
          "name": "stdout",
          "text": [
            "For 0-10 admissions, the proportion of High LoS/Small LoS is: 0.5394180552101467\n",
            "For 11-20 admissions, the proportion of High LoS/Small LoS is: 0.49466738973246566\n",
            "For 21-30 admissions, the proportion of High LoS/Small LoS is: 0.5617777088342512\n",
            "For 31-40 admissions, the proportion of High LoS/Small LoS is: 0.6198637208341937\n",
            "For 41-50 admissions, the proportion of High LoS/Small LoS is: 0.69351611507679\n",
            "For 51-60 admissions, the proportion of High LoS/Small LoS is: 0.7400458999672143\n",
            "For 61-70 admissions, the proportion of High LoS/Small LoS is: 0.7626345654133744\n",
            "For 71-80 admissions, the proportion of High LoS/Small LoS is: 0.8166589589435281\n",
            "For 81-90 admissions, the proportion of High LoS/Small LoS is: 1.111352525801195\n",
            "For 91-100 admissions, the proportion of High LoS/Small LoS is: 1.0769230769230769\n"
          ]
        }
      ],
      "source": [
        "# Printing the proportion of LoS for each type od admission\n",
        "for i in unique_ages:\n",
        "    x = df_EDA[(df_EDA['Age'] == i) & (df_EDA['Stay'] == 1)].shape[0]\n",
        "    y = df_EDA[(df_EDA['Age'] == i) & (df_EDA['Stay'] == 0)].shape[0]\n",
        "    z = x/y\n",
        "    print(f\"For {i} admissions, the proportion of High LoS/Small LoS is: {z}\")\n",
        "    "
      ]
    },
    {
      "cell_type": "markdown",
      "id": "49073e23",
      "metadata": {
        "id": "49073e23"
      },
      "source": [
        "**It seens like the LoS is increasing while the age increases. Positive correlation**"
      ]
    },
    {
      "cell_type": "markdown",
      "id": "7fda926a",
      "metadata": {
        "id": "7fda926a"
      },
      "source": [
        "## Insights\n",
        "* The mean admission amount for patient is 3.4\n",
        "* Some patients have a high number of admissions. There are 90344 unique patients, and 1769 were admitted more than 9 times\n",
        "* These patients that have multiple admissions have a higher Length of Stay ? There is a small difference, with the outliers patients having a proportion of lenght of stay > 30 days smaller than the complete dataset\n",
        "* Deeper look into Hospitals codes 2, 16, 20, 22 and 32. All of then have a LoS > 30 days more than 1 time higher than LoS ≤ 30 days\n",
        "* Deeper look into hospitals types f and g, that have a higher proportion of LoS > 30 days\n",
        "* The Surgery department have a higher proportion of longer LoS\n",
        "* Positive correlation between age and longer LoS"
      ]
    },
    {
      "cell_type": "code",
      "execution_count": null,
      "id": "29973060",
      "metadata": {
        "id": "29973060"
      },
      "outputs": [],
      "source": []
    }
  ],
  "metadata": {
    "kernelspec": {
      "display_name": "Python 3 (ipykernel)",
      "language": "python",
      "name": "python3"
    },
    "language_info": {
      "codemirror_mode": {
        "name": "ipython",
        "version": 3
      },
      "file_extension": ".py",
      "mimetype": "text/x-python",
      "name": "python",
      "nbconvert_exporter": "python",
      "pygments_lexer": "ipython3",
      "version": "3.9.13"
    },
    "colab": {
      "provenance": [],
      "include_colab_link": true
    }
  },
  "nbformat": 4,
  "nbformat_minor": 5
}